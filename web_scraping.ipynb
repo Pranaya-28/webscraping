{
  "nbformat": 4,
  "nbformat_minor": 0,
  "metadata": {
    "colab": {
      "provenance": []
    },
    "kernelspec": {
      "name": "python3",
      "display_name": "Python 3"
    },
    "language_info": {
      "name": "python"
    }
  },
  "cells": [
    {
      "cell_type": "code",
      "execution_count": null,
      "metadata": {
        "colab": {
          "base_uri": "https://localhost:8080/"
        },
        "id": "6igxUjcXVlGr",
        "outputId": "8faefc21-8cb7-4dd9-da64-9eef2ab6ca9d"
      },
      "outputs": [
        {
          "output_type": "stream",
          "name": "stdout",
          "text": [
            "https://www.google.com/imghp?hl=en&tab=wi\n",
            "https://maps.google.com/maps?hl=en&tab=wl\n",
            "https://play.google.com/?hl=en&tab=w8\n",
            "https://www.youtube.com/?tab=w1\n",
            "https://news.google.com/?tab=wn\n",
            "https://mail.google.com/mail/?tab=wm\n",
            "https://drive.google.com/?tab=wo\n",
            "https://www.google.com/intl/en/about/products?tab=wh\n",
            "http://www.google.com/history/optout?hl=en\n",
            "/preferences?hl=en\n",
            "https://accounts.google.com/ServiceLogin?hl=en&passive=true&continue=https://www.google.com/&ec=GAZAAQ\n",
            "/advanced_search?hl=en&authuser=0\n",
            "/intl/en/ads/\n",
            "/services/\n",
            "/intl/en/about.html\n",
            "/intl/en/policies/privacy/\n",
            "/intl/en/policies/terms/\n"
          ]
        }
      ],
      "source": [
        "import requests\n",
        "from bs4 import BeautifulSoup\n",
        "\n",
        "# Function to scrape a webpage given a URL\n",
        "def scrape_website(url):\n",
        "    # Send a GET request to the URL\n",
        "    response = requests.get(url)\n",
        "\n",
        "    # Check if the request was successful (status code 200)\n",
        "    if response.status_code == 200:\n",
        "        # Parse the content using BeautifulSoup\n",
        "        soup = BeautifulSoup(response.content, 'html.parser')\n",
        "\n",
        "        # Example: Extracting all the links (href) from the webpage\n",
        "        links = soup.find_all('a', href=True)\n",
        "\n",
        "        # Print out all the links found\n",
        "        for link in links:\n",
        "            print(link['href'])\n",
        "\n",
        "    else:\n",
        "        print(f\"Failed to retrieve {url}\")\n",
        "\n",
        "# Example usage:\n",
        "if __name__ == \"__main__\":\n",
        "    # Replace with the URL of the website you want to scrape\n",
        "    url_to_scrape = 'https://google.com'\n",
        "    scrape_website(url_to_scrape)"
      ]
    },
    {
      "cell_type": "code",
      "source": [
        "import requests\n",
        "from bs4 import BeautifulSoup\n",
        "\n",
        "# Function to scrape a webpage for title and body text\n",
        "def scrape_website(url):\n",
        "    try:\n",
        "        # Send a GET request to the URL with timeout and custom headers\n",
        "        headers = {'User-Agent': 'Mozilla/5.0 (Windows NT 10.0; Win64; x64) AppleWebKit/537.36 (KHTML, like Gecko) Chrome/91.0.4472.124 Safari/537.36'}\n",
        "        response = requests.get(url, headers=headers, timeout=10)\n",
        "\n",
        "        # Check if the request was successful (status code 200)\n",
        "        if response.status_code == 200:\n",
        "            # Parse the content using BeautifulSoup\n",
        "            soup = BeautifulSoup(response.content, 'html.parser')\n",
        "\n",
        "            # Extracting the title of the webpage\n",
        "            title = soup.title.text.strip() if soup.title else \"No title found\"\n",
        "            print(f\"Title: {title}\")\n",
        "            print(\"---------\")\n",
        "\n",
        "            # Extracting the body text (assuming it's within <p> tags)\n",
        "            body_paragraphs = soup.find_all('span')\n",
        "            for paragraph in body_paragraphs:\n",
        "                print(paragraph.text)\n",
        "\n",
        "        else:\n",
        "            print(f\"Failed to retrieve {url}. Status code: {response.status_code}\")\n",
        "\n",
        "    except requests.exceptions.RequestException as e:\n",
        "        print(f\"Error fetching {url}: {e}\")\n",
        "\n",
        "# Example usage:\n",
        "if __name__ == \"__main__\":\n",
        "    # Replace with the URL of the website you want to scrape\n",
        "    url_to_scrape = 'https://www.oyegifts.com/graceful-surprise'\n",
        "    scrape_website(url_to_scrape)"
      ],
      "metadata": {
        "colab": {
          "base_uri": "https://localhost:8080/"
        },
        "id": "8yUUumvLWnxg",
        "outputId": "2e1558fb-41d5-49b7-a106-07b2e820cad0"
      },
      "execution_count": 11,
      "outputs": [
        {
          "output_type": "stream",
          "name": "stdout",
          "text": [
            "Title: Buy Graceful Surprise Online , Send Gifts To India - OyeGifts.com\n",
            "---------\n",
            "\n",
            "Flowers & Cake\n",
            "Chocolates\n",
            "Cakes\n",
            "Plants\n",
            "Birthday \n",
            "Anniversary\n",
            "Exclusive\n",
            "Select City\n",
            "(0)\n",
            "\n",
            "Cart -0\n",
            "Delivery in Which City?\n",
            "Gift Code :\r\n",
            "                        BESTGIFTS-1682                      \n",
            "\r\n",
            "                4.6                 \n",
            "\r\n",
            "                1                \n",
            "\r\n",
            "                1441                \n",
            "5\n",
            "\n",
            "13\r\n",
            "                    sold in last\r\n",
            "                    24\r\n",
            "                    hours\r\n",
            "                \n",
            "13\n",
            "24\n",
            "866\n",
            "\n",
            "\n",
            "\n",
            " Hrs left for Today's Delivery\n",
            "\n",
            "\n",
            "\n",
            "\n",
            "\n",
            "\n",
            "\n",
            "\n",
            "Enter Delivery Date\n",
            "\n",
            "\n",
            "\n",
            "\n",
            "\n",
            "\n",
            "\n",
            "VIEW GIFTS AVILABLE FOR this location\n",
            "These gifts are available to this location  Show me gifts \n",
            "\n",
            "\n",
            "\n",
            "\n",
            " 18 People Are looking at this product.\n",
            "\n",
            "\n",
            "Estimated Delivery : \r\n",
            "                         Tomorrow                     \n",
            "\n",
            " Free shipping : on orders above ₹ 599 \n",
            "\n",
            " Made with love in Bharat \n",
            "\r\n",
            "                            Have doubts regarding this product?                          \n",
            " \r\n",
            "            449            \n",
            " \r\n",
            "            449            \n",
            " \r\n",
            "            449            \n",
            " \r\n",
            "            699            \n",
            " \r\n",
            "            449            \n",
            " \r\n",
            "            1545            \n",
            " \r\n",
            "            1750            \n",
            " \r\n",
            "            449            \n",
            " \r\n",
            "            449            \n",
            " \r\n",
            "            449            \n",
            " \r\n",
            "            799            \n",
            " \r\n",
            "            449            \n",
            "Select\r\n",
            "        Delivery Type & Slot\n",
            "×\n",
            "Noida\n",
            "Gurgaon\n",
            "Delhi\n",
            "Mumbai\n",
            "Bangalore\n",
            "Pune\n",
            "Hyderabad\n",
            "Chennai\n",
            "Kolkata\n",
            "Lucknow\n",
            "\r\n",
            "\r\n",
            "            Our recommendations for you\r\n",
            "\r\n",
            "        \n",
            "2 Layer Bamboo (Addons)\n",
            "611\n",
            "1 kg Gulab Jamun (Addons)\n",
            "611\n",
            "Half kg Blackforest Cake (Addons)\n",
            "611\n",
            "2 Cadbury Dairy Milk Silk (60 gram each) (Addons)\n",
            "305\n",
            "Soan Papdi (500gm) (Addons)\n",
            "611\n",
            "Motichoor Laddoo (500gm) (Addons)\n",
            "917\n",
            "Friendship Gems Cake\n",
            "599\n",
            " FILTERS\r\n",
            "\r\n",
            "    \n",
            "Delivery Type\n",
            "Price\n",
            "Make It Extra Special With Add-ons\n"
          ]
        }
      ]
    },
    {
      "cell_type": "code",
      "source": [
        "scrape_website('https://store.google.com/in/product/google_nest_mini?hl=en-GB')"
      ],
      "metadata": {
        "colab": {
          "base_uri": "https://localhost:8080/"
        },
        "id": "uMBvoAbEXNqu",
        "outputId": "043a7aa9-6125-4021-8c9d-cdaf549eaa8f"
      },
      "execution_count": 6,
      "outputs": [
        {
          "output_type": "stream",
          "name": "stdout",
          "text": [
            "Title: Google Nest Mini - A Smart Speaker for Any Room - Google Store\n",
            "---------\n",
            "You're ready to receive the latest news and offers from the Google Store.\n",
            "\n",
            "Sign in and sign up\n",
            "\n",
            "By submitting your email, you accept the terms & conditions.\n"
          ]
        }
      ]
    },
    {
      "cell_type": "code",
      "source": [
        ";ink = ''\n",
        "scrape_website('https://www.joevsmartshop.com/product/tj-farms-select-frozen-winter-blend-12-oz/10704543')"
      ],
      "metadata": {
        "colab": {
          "base_uri": "https://localhost:8080/"
        },
        "id": "GQE_zCHf-You",
        "outputId": "beb6ad5d-859a-4456-e172-429c027775c7"
      },
      "execution_count": 12,
      "outputs": [
        {
          "output_type": "stream",
          "name": "stdout",
          "text": [
            "Title: No title found\n",
            "---------\n"
          ]
        }
      ]
    },
    {
      "cell_type": "code",
      "source": [],
      "metadata": {
        "id": "RJvdVK5x-XaD"
      },
      "execution_count": null,
      "outputs": []
    },
    {
      "cell_type": "code",
      "source": [
        "import requests\n",
        "from bs4 import BeautifulSoup\n",
        "\n",
        "def get_top_search_result(query):\n",
        "    url = f\"https://www.google.com/search?q={query}\"\n",
        "    headers = {\n",
        "        \"User-Agent\": \"Mozilla/5.0 (Windows NT 10.0; Win64; x64) AppleWebKit/537.36 (KHTML, like Gecko) Chrome/91.0.4472.124 Safari/537.36\"\n",
        "    }\n",
        "\n",
        "    # Send a GET request to Google search\n",
        "    response = requests.get(url, headers=headers)\n",
        "\n",
        "    # Parse the HTML content\n",
        "    soup = BeautifulSoup(response.text, \"html.parser\")\n",
        "\n",
        "    # Extract the top search result link\n",
        "    search_results = soup.find_all(\"a\")\n",
        "    top_link = None\n",
        "    for link in search_results:\n",
        "        href = link.get('href')\n",
        "        if href.startswith('/url?q='):\n",
        "            top_link = href.split('/url?q=')[1].split('&')[0]\n",
        "            break\n",
        "\n",
        "    return top_link\n",
        "\n",
        "# Example usage\n",
        "search_query = \"graceful surprise\"\n",
        "top_link = get_top_search_result(search_query)\n",
        "print(\"Top link:\", top_link)"
      ],
      "metadata": {
        "colab": {
          "base_uri": "https://localhost:8080/",
          "height": 315
        },
        "id": "PRe8hviaXtOb",
        "outputId": "9234b51a-190a-44d9-8ae8-85edd0d86155"
      },
      "execution_count": null,
      "outputs": [
        {
          "output_type": "error",
          "ename": "AttributeError",
          "evalue": "'NoneType' object has no attribute 'startswith'",
          "traceback": [
            "\u001b[0;31m---------------------------------------------------------------------------\u001b[0m",
            "\u001b[0;31mAttributeError\u001b[0m                            Traceback (most recent call last)",
            "\u001b[0;32m<ipython-input-1-5715f9147f75>\u001b[0m in \u001b[0;36m<cell line: 29>\u001b[0;34m()\u001b[0m\n\u001b[1;32m     27\u001b[0m \u001b[0;31m# Example usage\u001b[0m\u001b[0;34m\u001b[0m\u001b[0;34m\u001b[0m\u001b[0m\n\u001b[1;32m     28\u001b[0m \u001b[0msearch_query\u001b[0m \u001b[0;34m=\u001b[0m \u001b[0;34m\"graceful surprise\"\u001b[0m\u001b[0;34m\u001b[0m\u001b[0;34m\u001b[0m\u001b[0m\n\u001b[0;32m---> 29\u001b[0;31m \u001b[0mtop_link\u001b[0m \u001b[0;34m=\u001b[0m \u001b[0mget_top_search_result\u001b[0m\u001b[0;34m(\u001b[0m\u001b[0msearch_query\u001b[0m\u001b[0;34m)\u001b[0m\u001b[0;34m\u001b[0m\u001b[0;34m\u001b[0m\u001b[0m\n\u001b[0m\u001b[1;32m     30\u001b[0m \u001b[0mprint\u001b[0m\u001b[0;34m(\u001b[0m\u001b[0;34m\"Top link:\"\u001b[0m\u001b[0;34m,\u001b[0m \u001b[0mtop_link\u001b[0m\u001b[0;34m)\u001b[0m\u001b[0;34m\u001b[0m\u001b[0;34m\u001b[0m\u001b[0m\n",
            "\u001b[0;32m<ipython-input-1-5715f9147f75>\u001b[0m in \u001b[0;36mget_top_search_result\u001b[0;34m(query)\u001b[0m\n\u001b[1;32m     19\u001b[0m     \u001b[0;32mfor\u001b[0m \u001b[0mlink\u001b[0m \u001b[0;32min\u001b[0m \u001b[0msearch_results\u001b[0m\u001b[0;34m:\u001b[0m\u001b[0;34m\u001b[0m\u001b[0;34m\u001b[0m\u001b[0m\n\u001b[1;32m     20\u001b[0m         \u001b[0mhref\u001b[0m \u001b[0;34m=\u001b[0m \u001b[0mlink\u001b[0m\u001b[0;34m.\u001b[0m\u001b[0mget\u001b[0m\u001b[0;34m(\u001b[0m\u001b[0;34m'href'\u001b[0m\u001b[0;34m)\u001b[0m\u001b[0;34m\u001b[0m\u001b[0;34m\u001b[0m\u001b[0m\n\u001b[0;32m---> 21\u001b[0;31m         \u001b[0;32mif\u001b[0m \u001b[0mhref\u001b[0m\u001b[0;34m.\u001b[0m\u001b[0mstartswith\u001b[0m\u001b[0;34m(\u001b[0m\u001b[0;34m'/url?q='\u001b[0m\u001b[0;34m)\u001b[0m\u001b[0;34m:\u001b[0m\u001b[0;34m\u001b[0m\u001b[0;34m\u001b[0m\u001b[0m\n\u001b[0m\u001b[1;32m     22\u001b[0m             \u001b[0mtop_link\u001b[0m \u001b[0;34m=\u001b[0m \u001b[0mhref\u001b[0m\u001b[0;34m.\u001b[0m\u001b[0msplit\u001b[0m\u001b[0;34m(\u001b[0m\u001b[0;34m'/url?q='\u001b[0m\u001b[0;34m)\u001b[0m\u001b[0;34m[\u001b[0m\u001b[0;36m1\u001b[0m\u001b[0;34m]\u001b[0m\u001b[0;34m.\u001b[0m\u001b[0msplit\u001b[0m\u001b[0;34m(\u001b[0m\u001b[0;34m'&'\u001b[0m\u001b[0;34m)\u001b[0m\u001b[0;34m[\u001b[0m\u001b[0;36m0\u001b[0m\u001b[0;34m]\u001b[0m\u001b[0;34m\u001b[0m\u001b[0;34m\u001b[0m\u001b[0m\n\u001b[1;32m     23\u001b[0m             \u001b[0;32mbreak\u001b[0m\u001b[0;34m\u001b[0m\u001b[0;34m\u001b[0m\u001b[0m\n",
            "\u001b[0;31mAttributeError\u001b[0m: 'NoneType' object has no attribute 'startswith'"
          ]
        }
      ]
    },
    {
      "cell_type": "code",
      "source": [
        "import requests\n",
        "from bs4 import BeautifulSoup\n",
        "\n",
        "def get_top_search_result(query):\n",
        "    url = f\"https://www.google.com/search?q={query}\"\n",
        "    headers = {\n",
        "        \"User-Agent\": \"Mozilla/5.0 (Windows NT 10.0; Win64; x64) AppleWebKit/537.36 (KHTML, like Gecko) Chrome/91.0.4472.124 Safari/537.36\"\n",
        "    }\n",
        "\n",
        "    # Send a GET request to Google search\n",
        "    response = requests.get(url, headers=headers)\n",
        "    response.raise_for_status()  # Raise an exception for bad status codes\n",
        "\n",
        "    # Parse the HTML content\n",
        "    soup = BeautifulSoup(response.text, \"html.parser\")\n",
        "\n",
        "    # Extract the top search result link\n",
        "    top_link = None\n",
        "    search_results = soup.find_all(\"a\")\n",
        "    for link in search_results:\n",
        "        href = link.get('href')\n",
        "        print(href)\n",
        "        if href and href.startswith('/url?q='):\n",
        "            top_link = href.split('/url?q=')[1].split('&')[0]\n",
        "            break\n",
        "\n",
        "\n",
        "    return search_results\n",
        "\n",
        "# Example usage\n",
        "search_query = \"9SIBFVJJA32585_OG Mains|DS-46552 R\"\n",
        "top_link = get_top_search_result(search_query)\n",
        "if top_link:\n",
        "    print(\"Top link:\", top_link)\n",
        "else:\n",
        "    print(\"No top link found.\")"
      ],
      "metadata": {
        "colab": {
          "base_uri": "https://localhost:8080/"
        },
        "id": "rhVv0q7Sq5Ij",
        "outputId": "db8c2eb3-5b4c-4575-85cc-6071cbbdfa51"
      },
      "execution_count": 2,
      "outputs": [
        {
          "output_type": "stream",
          "name": "stdout",
          "text": [
            "/search?q=9SIBFVJJA32585_OG+Mains%7CDS-46552+R&sca_esv=d5f0ac5cf98c6d9c&sca_upv=1&gbv=1&sei=Wx6QZon8EJ-XwbkP696J4A8\n",
            "None\n",
            "https://support.google.com/websearch/answer/181196?hl=en\n",
            "None\n",
            "https://www.google.com/webhp?hl=en&sa=X&ved=0ahUKEwjJldGZyZ-HAxWfSzABHWtvAvwQPAgI\n",
            "https://www.google.com/intl/en/about/products?tab=wh\n",
            "https://accounts.google.com/ServiceLogin?hl=en&passive=true&continue=https://www.google.com/search%3Fq%3D9SIBFVJJA32585_OG%2520Mains%257CDS-46552%2520R&ec=futura_gmv_dt_so_72586115_e\n",
            "/search?sca_esv=d5f0ac5cf98c6d9c&sca_upv=1&q=9SIBFVJJA32585_OG+Mains%7CDS-46552+R&tbm=shop&source=lnms&fbs=AEQNm0DBTogQXaq7JsoUAbTsd0B6JEdyvwg9pOFJlHzVj4IGyljlmelwKWALZZi_asBuBYABb8VqRJoY_CFoUVIJzsGDz2dGoCUDJodyfFLo5IrWkh_lvzymYCjlnKFpisVx6ROuCsCK0Qlwq8qu8Omvf8jNNo7Nzz4SVrZ3mPZ3vyoiIDXkOe5ofaXiD9cFBMgNrq5bkXslJBKzOD1O23hpLDyk3bmRkw&ved=1t:200715&ictx=111\n",
            "/search?sca_esv=d5f0ac5cf98c6d9c&sca_upv=1&q=9SIBFVJJA32585_OG+Mains%7CDS-46552+R&udm=2&fbs=AEQNm0DBTogQXaq7JsoUAbTsd0B6JEdyvwg9pOFJlHzVj4IGyljlmelwKWALZZi_asBuBYABb8VqRJoY_CFoUVIJzsGDz2dGoCUDJodyfFLo5IrWkh_lvzymYCjlnKFpisVx6ROuCsCK0Qlwq8qu8Omvf8jNNo7Nzz4SVrZ3mPZ3vyoiIDXkOe5ofaXiD9cFBMgNrq5bkXslJBKzOD1O23hpLDyk3bmRkw&sa=X&ved=2ahUKEwjJldGZyZ-HAxWfSzABHWtvAvwQtKgLegQIDRAB\n",
            "/search?sca_esv=d5f0ac5cf98c6d9c&sca_upv=1&q=9SIBFVJJA32585_OG+Mains%7CDS-46552+R&tbm=vid&source=lnms&fbs=AEQNm0DBTogQXaq7JsoUAbTsd0B6JEdyvwg9pOFJlHzVj4IGyljlmelwKWALZZi_asBuBYABb8VqRJoY_CFoUVIJzsGDz2dGoCUDJodyfFLo5IrWkh_lvzymYCjlnKFpisVx6ROuCsCK0Qlwq8qu8Omvf8jNNo7Nzz4SVrZ3mPZ3vyoiIDXkOe5ofaXiD9cFBMgNrq5bkXslJBKzOD1O23hpLDyk3bmRkw&sa=X&ved=2ahUKEwjJldGZyZ-HAxWfSzABHWtvAvwQ0pQJegQIDhAB\n",
            "/search?sca_esv=d5f0ac5cf98c6d9c&sca_upv=1&q=9SIBFVJJA32585_OG+Mains%7CDS-46552+R&udm=18&fbs=AEQNm0DBTogQXaq7JsoUAbTsd0B6JEdyvwg9pOFJlHzVj4IGyljlmelwKWALZZi_asBuBYABb8VqRJoY_CFoUVIJzsGDz2dGoCUDJodyfFLo5IrWkh_lvzymYCjlnKFpisVx6ROuCsCK0Qlwq8qu8Omvf8jNNo7Nzz4SVrZ3mPZ3vyoiIDXkOe5ofaXiD9cFBMgNrq5bkXslJBKzOD1O23hpLDyk3bmRkw&sa=X&ved=2ahUKEwjJldGZyZ-HAxWfSzABHWtvAvwQs6gLegQICxAB\n",
            "Top link: [<a href=\"/search?q=9SIBFVJJA32585_OG+Mains%7CDS-46552+R&amp;sca_esv=d5f0ac5cf98c6d9c&amp;sca_upv=1&amp;gbv=1&amp;sei=Wx6QZon8EJ-XwbkP696J4A8\">here</a>, <a class=\"gyPpGe\" data-ved=\"0ahUKEwjJldGZyZ-HAxWfSzABHWtvAvwQ67oDCAU\" jsaction=\"i3viod\" jsname=\"BKxS1e\" role=\"link\" tabindex=\"0\">Skip to main content</a>, <a class=\"gyPpGe\" href=\"https://support.google.com/websearch/answer/181196?hl=en\" jsname=\"KI37ad\" ping=\"/url?sa=t&amp;source=web&amp;rct=j&amp;url=https://support.google.com/websearch/answer/181196%3Fhl%3Den&amp;ved=0ahUKEwjJldGZyZ-HAxWfSzABHWtvAvwQwcMDCAY&amp;bl=ATWa&amp;opi=89978449\">Accessibility help</a>, <a class=\"gyPpGe\" data-async-trigger=\"duf3-78\" jsaction=\"trigger.szjOR\" jsname=\"JUypV\" role=\"link\" tabindex=\"0\">Accessibility feedback</a>, <a data-hveid=\"8\" href=\"https://www.google.com/webhp?hl=en&amp;sa=X&amp;ved=0ahUKEwjJldGZyZ-HAxWfSzABHWtvAvwQPAgI\" id=\"logo\" title=\"Go to Google Home\"><img alt=\"Google\" class=\"jfN4p\" height=\"30\" src=\"/images/branding/googlelogo/2x/googlelogo_color_92x30dp.png\" style=\"background:none\" width=\"92\"/></a>, <a aria-expanded=\"false\" aria-label=\"Google apps\" class=\"gb_d\" href=\"https://www.google.com/intl/en/about/products?tab=wh\" role=\"button\" tabindex=\"0\"><svg class=\"gb_h\" focusable=\"false\" viewbox=\"0 0 24 24\"><path d=\"M6,8c1.1,0 2,-0.9 2,-2s-0.9,-2 -2,-2 -2,0.9 -2,2 0.9,2 2,2zM12,20c1.1,0 2,-0.9 2,-2s-0.9,-2 -2,-2 -2,0.9 -2,2 0.9,2 2,2zM6,20c1.1,0 2,-0.9 2,-2s-0.9,-2 -2,-2 -2,0.9 -2,2 0.9,2 2,2zM6,14c1.1,0 2,-0.9 2,-2s-0.9,-2 -2,-2 -2,0.9 -2,2 0.9,2 2,2zM12,14c1.1,0 2,-0.9 2,-2s-0.9,-2 -2,-2 -2,0.9 -2,2 0.9,2 2,2zM16,6c0,1.1 0.9,2 2,2s2,-0.9 2,-2 -0.9,-2 -2,-2 -2,0.9 -2,2zM12,8c1.1,0 2,-0.9 2,-2s-0.9,-2 -2,-2 -2,0.9 -2,2 0.9,2 2,2zM18,14c1.1,0 2,-0.9 2,-2s-0.9,-2 -2,-2 -2,0.9 -2,2 0.9,2 2,2zM18,20c1.1,0 2,-0.9 2,-2s-0.9,-2 -2,-2 -2,0.9 -2,2 0.9,2 2,2z\"></path><image alt=\"\" height=\"24\" src=\"https://ssl.gstatic.com/gb/images/bar/al-icon.png\" style=\"border:none;display:none \\9\" width=\"24\"/></svg></a>, <a aria-label=\"Sign in\" class=\"gb_c\" href=\"https://accounts.google.com/ServiceLogin?hl=en&amp;passive=true&amp;continue=https://www.google.com/search%3Fq%3D9SIBFVJJA32585_OG%2520Mains%257CDS-46552%2520R&amp;ec=futura_gmv_dt_so_72586115_e\" target=\"_top\"><span class=\"gb_s\">Sign in</span></a>, <a class=\"LatpMc nPDzT T3FoJb\" data-hveid=\"CA8QAQ\" data-ved=\"2ahUKEwjJldGZyZ-HAxWfSzABHWtvAvwQi6AMegQIDxAB\" href=\"/search?sca_esv=d5f0ac5cf98c6d9c&amp;sca_upv=1&amp;q=9SIBFVJJA32585_OG+Mains%7CDS-46552+R&amp;tbm=shop&amp;source=lnms&amp;fbs=AEQNm0DBTogQXaq7JsoUAbTsd0B6JEdyvwg9pOFJlHzVj4IGyljlmelwKWALZZi_asBuBYABb8VqRJoY_CFoUVIJzsGDz2dGoCUDJodyfFLo5IrWkh_lvzymYCjlnKFpisVx6ROuCsCK0Qlwq8qu8Omvf8jNNo7Nzz4SVrZ3mPZ3vyoiIDXkOe5ofaXiD9cFBMgNrq5bkXslJBKzOD1O23hpLDyk3bmRkw&amp;ved=1t:200715&amp;ictx=111\" jsname=\"VIftV\" ping=\"/url?sa=t&amp;source=web&amp;rct=j&amp;opi=89978449&amp;url=/search%3Fsca_esv%3Dd5f0ac5cf98c6d9c%26sca_upv%3D1%26q%3D9SIBFVJJA32585_OG%2BMains%257CDS-46552%2BR%26tbm%3Dshop%26source%3Dlnms%26fbs%3DAEQNm0DBTogQXaq7JsoUAbTsd0B6JEdyvwg9pOFJlHzVj4IGyljlmelwKWALZZi_asBuBYABb8VqRJoY_CFoUVIJzsGDz2dGoCUDJodyfFLo5IrWkh_lvzymYCjlnKFpisVx6ROuCsCK0Qlwq8qu8Omvf8jNNo7Nzz4SVrZ3mPZ3vyoiIDXkOe5ofaXiD9cFBMgNrq5bkXslJBKzOD1O23hpLDyk3bmRkw%26ved%3D1t:200715%26ictx%3D111&amp;ved=2ahUKEwjJldGZyZ-HAxWfSzABHWtvAvwQi6AMegQIDxAB\" role=\"link\"><div class=\"YmvwI\" jsname=\"bVqjv\">Shopping</div></a>, <a class=\"nPDzT T3FoJb\" data-hveid=\"CA0QAQ\" data-ved=\"2ahUKEwjJldGZyZ-HAxWfSzABHWtvAvwQtKgLegQIDRAB\" href=\"/search?sca_esv=d5f0ac5cf98c6d9c&amp;sca_upv=1&amp;q=9SIBFVJJA32585_OG+Mains%7CDS-46552+R&amp;udm=2&amp;fbs=AEQNm0DBTogQXaq7JsoUAbTsd0B6JEdyvwg9pOFJlHzVj4IGyljlmelwKWALZZi_asBuBYABb8VqRJoY_CFoUVIJzsGDz2dGoCUDJodyfFLo5IrWkh_lvzymYCjlnKFpisVx6ROuCsCK0Qlwq8qu8Omvf8jNNo7Nzz4SVrZ3mPZ3vyoiIDXkOe5ofaXiD9cFBMgNrq5bkXslJBKzOD1O23hpLDyk3bmRkw&amp;sa=X&amp;ved=2ahUKEwjJldGZyZ-HAxWfSzABHWtvAvwQtKgLegQIDRAB\" jsname=\"VIftV\" role=\"link\"><div class=\"YmvwI\" jsname=\"bVqjv\">Images</div></a>, <a class=\"LatpMc nPDzT T3FoJb\" data-hveid=\"CA4QAQ\" data-ved=\"2ahUKEwjJldGZyZ-HAxWfSzABHWtvAvwQ0pQJegQIDhAB\" href=\"/search?sca_esv=d5f0ac5cf98c6d9c&amp;sca_upv=1&amp;q=9SIBFVJJA32585_OG+Mains%7CDS-46552+R&amp;tbm=vid&amp;source=lnms&amp;fbs=AEQNm0DBTogQXaq7JsoUAbTsd0B6JEdyvwg9pOFJlHzVj4IGyljlmelwKWALZZi_asBuBYABb8VqRJoY_CFoUVIJzsGDz2dGoCUDJodyfFLo5IrWkh_lvzymYCjlnKFpisVx6ROuCsCK0Qlwq8qu8Omvf8jNNo7Nzz4SVrZ3mPZ3vyoiIDXkOe5ofaXiD9cFBMgNrq5bkXslJBKzOD1O23hpLDyk3bmRkw&amp;sa=X&amp;ved=2ahUKEwjJldGZyZ-HAxWfSzABHWtvAvwQ0pQJegQIDhAB\" jsname=\"VIftV\" role=\"link\"><div class=\"YmvwI\" jsname=\"bVqjv\">Videos</div></a>, <a class=\"nPDzT T3FoJb\" data-hveid=\"CAsQAQ\" data-ved=\"2ahUKEwjJldGZyZ-HAxWfSzABHWtvAvwQs6gLegQICxAB\" href=\"/search?sca_esv=d5f0ac5cf98c6d9c&amp;sca_upv=1&amp;q=9SIBFVJJA32585_OG+Mains%7CDS-46552+R&amp;udm=18&amp;fbs=AEQNm0DBTogQXaq7JsoUAbTsd0B6JEdyvwg9pOFJlHzVj4IGyljlmelwKWALZZi_asBuBYABb8VqRJoY_CFoUVIJzsGDz2dGoCUDJodyfFLo5IrWkh_lvzymYCjlnKFpisVx6ROuCsCK0Qlwq8qu8Omvf8jNNo7Nzz4SVrZ3mPZ3vyoiIDXkOe5ofaXiD9cFBMgNrq5bkXslJBKzOD1O23hpLDyk3bmRkw&amp;sa=X&amp;ved=2ahUKEwjJldGZyZ-HAxWfSzABHWtvAvwQs6gLegQICxAB\" jsname=\"VIftV\" role=\"link\"><div class=\"YmvwI\" jsname=\"bVqjv\">Forums</div></a>]\n"
          ]
        }
      ]
    },
    {
      "cell_type": "code",
      "source": [
        "Avocados Organic - 5 CT\n",
        "Personalised Valentines Wishes Chocolate Bar\n",
        "Assorted Dry Fruits & Blue Ganesha Diwali Hamper\n",
        "Eastern Inspirations Sweet Chilli Stir Fry Sauce 180G\n",
        "324129971-50 Black Wall Mounted Electric Fireplace with 3 Colors, Temperature, Touch Screen, Remote, Crystal Stones Fake Wood"
      ],
      "metadata": {
        "id": "3SygkxbJrhk3"
      },
      "execution_count": null,
      "outputs": []
    },
    {
      "cell_type": "code",
      "source": [
        "#\n",
        "search_query = \" TJ Farms Select Winter Blend - 12 Oz \"\n",
        "top_link = get_top_search_result(search_query)\n",
        "if top_link:\n",
        "    print(\"Top link:\", top_link)\n",
        "else:\n",
        "    print(\"No top link found.\")"
      ],
      "metadata": {
        "colab": {
          "base_uri": "https://localhost:8080/"
        },
        "id": "YIE-LNSm9-OY",
        "outputId": "4dbf1bad-a800-4de4-dd7a-9bcbebd58e47"
      },
      "execution_count": 3,
      "outputs": [
        {
          "output_type": "stream",
          "name": "stdout",
          "text": [
            "/search?q=TJ+Farms+Select+Winter+Blend+-+12+Oz&sca_esv=d5f0ac5cf98c6d9c&gbv=1&sei=Cx-QZvOOONiRwbkPmLKGoAQ\n",
            "None\n",
            "https://support.google.com/websearch/answer/181196?hl=en\n",
            "None\n",
            "https://www.google.com/webhp?hl=en&sa=X&ved=0ahUKEwizwO7tyZ-HAxXYSDABHRiZAUQQPAgI\n",
            "https://www.google.com/intl/en/about/products?tab=wh\n",
            "https://accounts.google.com/ServiceLogin?hl=en&passive=true&continue=https://www.google.com/search%3Fq%3D%2520TJ%2520Farms%2520Select%2520Winter%2520Blend%2520-%252012%2520Oz%2520&ec=futura_gmv_dt_so_72586115_e\n",
            "/search?sca_esv=d5f0ac5cf98c6d9c&q=TJ+Farms+Select+Winter+Blend+-+12+Oz&udm=28&fbs=AEQNm0BglSNKPbDQcL4Et01QEIYvJ5VGsHgUL_tsKqYywhWXkknveTpaLEIQiU02u5i1FK5Aui8Lbcs6UtNG0K_ZRX5_Sfaez_nbio7ZevU-01UapIxO69dMWeVTKP_UKwkGJCi-gm4_XCwzeGcd3iWHdX18pJO4SCbD0xKKCtmS-V7RqxnCEfTZFtgpF81MF2iMynb0DJhUqRTMt9YhJKKaN0U-I1PLrg&sa=X&ved=2ahUKEwizwO7tyZ-HAxXYSDABHRiZAUQQtKgLegQICxAB\n",
            "/search?sca_esv=d5f0ac5cf98c6d9c&q=TJ+Farms+Select+Winter+Blend+-+12+Oz&udm=2&fbs=AEQNm0BglSNKPbDQcL4Et01QEIYvJ5VGsHgUL_tsKqYywhWXkknveTpaLEIQiU02u5i1FK5Aui8Lbcs6UtNG0K_ZRX5_Sfaez_nbio7ZevU-01UapIxO69dMWeVTKP_UKwkGJCi-gm4_XCwzeGcd3iWHdX18pJO4SCbD0xKKCtmS-V7RqxnCEfTZFtgpF81MF2iMynb0DJhUqRTMt9YhJKKaN0U-I1PLrg&sa=X&ved=2ahUKEwizwO7tyZ-HAxXYSDABHRiZAUQQtKgLegQIChAB\n",
            "/search?sca_esv=d5f0ac5cf98c6d9c&q=TJ+Farms+Select+Winter+Blend+-+12+Oz&tbm=vid&source=lnms&fbs=AEQNm0BglSNKPbDQcL4Et01QEIYvJ5VGsHgUL_tsKqYywhWXkknveTpaLEIQiU02u5i1FK5Aui8Lbcs6UtNG0K_ZRX5_Sfaez_nbio7ZevU-01UapIxO69dMWeVTKP_UKwkGJCi-gm4_XCwzeGcd3iWHdX18pJO4SCbD0xKKCtmS-V7RqxnCEfTZFtgpF81MF2iMynb0DJhUqRTMt9YhJKKaN0U-I1PLrg&sa=X&ved=2ahUKEwizwO7tyZ-HAxXYSDABHRiZAUQQ0pQJegQIDRAB\n",
            "/search?sca_esv=d5f0ac5cf98c6d9c&q=TJ+Farms+Select+Winter+Blend+-+12+Oz&udm=18&fbs=AEQNm0BglSNKPbDQcL4Et01QEIYvJ5VGsHgUL_tsKqYywhWXkknveTpaLEIQiU02u5i1FK5Aui8Lbcs6UtNG0K_ZRX5_Sfaez_nbio7ZevU-01UapIxO69dMWeVTKP_UKwkGJCi-gm4_XCwzeGcd3iWHdX18pJO4SCbD0xKKCtmS-V7RqxnCEfTZFtgpF81MF2iMynb0DJhUqRTMt9YhJKKaN0U-I1PLrg&sa=X&ved=2ahUKEwizwO7tyZ-HAxXYSDABHRiZAUQQs6gLegQIDhAB\n",
            "/search?q=TJ+Farms+Select+Winter+Blend+-+12+Oz+nearby&shoprs=CAEYAyoidGogZmFybXMgc2VsZWN0IHdpbnRlciBibGVuZCAxMiBvejIMCAMSBk5lYXJieRgCWLfLH2AB&sa=X&ved=2ahUKEwizwO7tyZ-HAxXYSDABHRiZAUQQip4GKAB6BAgREAM\n",
            "/search?q=tj+farms+select+winter+blend+12+oz&shoprs=CAESDZoBCgoIEAM4AUAHSAEYFCoidGogZmFybXMgc2VsZWN0IHdpbnRlciBibGVuZCAxMiBvejIkCBQSC0dldCBpdCBmYXN0Ig2aAQoKCBADOAFAB0gBKgQQARgBYAE&sa=X&ved=2ahUKEwizwO7tyZ-HAxXYSDABHRiZAUQQip4GKAF6BAgREAQ\n",
            "/search?q=TJ+Farms+Select+Winter+Blend+-+12+Oz+sale&shoprs=CAESBEoCGAEYBioidGogZmFybXMgc2VsZWN0IHdpbnRlciBibGVuZCAxMiBvejITCAYSB09uIHNhbGUYAiIESgIYAVi3yx9gAQ&sa=X&ved=2ahUKEwizwO7tyZ-HAxXYSDABHRiZAUQQip4GKAJ6BAgREAU\n",
            "/search?q=coffee+tj+farms+select+winter+blend+12+oz&shoprs=CAEYCSoidGogZmFybXMgc2VsZWN0IHdpbnRlciBibGVuZCAxMiBvejIKCAkSBkNvZmZlZWAB&sa=X&ved=2ahUKEwizwO7tyZ-HAxXYSDABHRiZAUQQip4GKAN6BAgREAY\n",
            "/search?q=tea+tj+farms+select+winter+blend+12+oz&shoprs=CAEYCSoidGogZmFybXMgc2VsZWN0IHdpbnRlciBibGVuZCAxMiBvejIHCAkSA1RlYWAB&sa=X&ved=2ahUKEwizwO7tyZ-HAxXYSDABHRiZAUQQip4GKAR6BAgREAc\n",
            "/search?q=organic+tj+farms+select+winter+blend+12+oz&shoprs=CAEYASoidGogZmFybXMgc2VsZWN0IHdpbnRlciBibGVuZCAxMiBvejIZCAESB09yZ2FuaWM6DAi--YcBEL_5hwEwA1i3yx9gAQ&sa=X&ved=2ahUKEwizwO7tyZ-HAxXYSDABHRiZAUQQip4GKAV6BAgREAg\n",
            "/search?q=walmart+tj+farms+select+winter+blend+12+oz&shoprs=CAEYAioidGogZmFybXMgc2VsZWN0IHdpbnRlciBibGVuZCAxMiBvejILCAISB1dhbG1hcnRYt8sfYAE&sa=X&ved=2ahUKEwizwO7tyZ-HAxXYSDABHRiZAUQQip4GKAZ6BAgREAk\n",
            "/search?q=juice+tj+farms+select+winter+blend+12+oz&shoprs=CAEYCSoidGogZmFybXMgc2VsZWN0IHdpbnRlciBibGVuZCAxMiBvejIJCAkSBUp1aWNlYAE&sa=X&ved=2ahUKEwizwO7tyZ-HAxXYSDABHRiZAUQQip4GKAd6BAgREAs\n",
            "/search?q=dog+food+tj+farms+select+winter+blend+12+oz&shoprs=CAEYCSoidGogZmFybXMgc2VsZWN0IHdpbnRlciBibGVuZCAxMiBvejIMCAkSCERvZyBGb29kYAE&sa=X&ved=2ahUKEwizwO7tyZ-HAxXYSDABHRiZAUQQip4GKAh6BAgREAw\n",
            "/search?q=caffeine-free+tj+farms+select+winter+blend+12+oz&shoprs=CAEYASoidGogZmFybXMgc2VsZWN0IHdpbnRlciBibGVuZCAxMiBvejIfCAESDUNhZmZlaW5lLWZyZWU6DAig8YoBEKHxigEwA1i3yx9gAQ&sa=X&ved=2ahUKEwizwO7tyZ-HAxXYSDABHRiZAUQQip4GKAl6BAgREA0\n",
            "/search?q=ebay+tj+farms+select+winter+blend+12+oz&shoprs=CAEYAioidGogZmFybXMgc2VsZWN0IHdpbnRlciBibGVuZCAxMiBvejIICAISBGVCYXlYt8sfYAE&sa=X&ved=2ahUKEwizwO7tyZ-HAxXYSDABHRiZAUQQip4GKAp6BAgREA4\n",
            "/search?q=TJ+Farms+Select+Winter+Blend+-+12+Oz+under+$10&shoprs=CAESDRILEQAAAADQEmNBGAEYBSoidGogZmFybXMgc2VsZWN0IHdpbnRlciBibGVuZCAxMiBvejIiCAUSCVVuZGVyICQxMBgCIg0SCxEAAAAA0BJjQRgBKgIYAVi3yx9gAQ&sa=X&ved=2ahUKEwizwO7tyZ-HAxXYSDABHRiZAUQQip4GKAt6BAgREBA\n",
            "https://www.joevsmartshop.com/product/tj-farms-select-frozen-winter-blend-12-oz/10704543\n",
            "https://www.joevsmartshop.com/product/tj-farms-select-frozen-winter-blend-12-oz/10704543\n",
            "https://www.doordash.com/products/tj-farms-select-winter-blend-vegetables-12-oz/urpc_4d1b93e0-f2b9-40fd-96cf-46d6c4252b45\n",
            "https://www.fooducate.com/product/TJ-Farms-Winter-Blend/D1200EEC-5F25-11E2-AD7C-1231381A4CEA\n",
            "/search?sca_esv=d5f0ac5cf98c6d9c&q=TJ+Farms+%22Select%22+Winter+Blend+-+12+Oz&sa=X&ved=2ahUKEwizwO7tyZ-HAxXYSDABHRiZAUQQ5t4CegQIKxAB\n",
            "https://www.fooducate.com/product/TJ-Farms-Winter-Blend/D1200EEC-5F25-11E2-AD7C-1231381A4CEA\n",
            "https://www.randalls.com/shop/product-details.970001559.html\n",
            "https://www.randalls.com/shop/product-details.970001559.html\n",
            "https://www.shaws.com/shop/product-details.970001559.html\n",
            "/search?sca_esv=d5f0ac5cf98c6d9c&q=TJ+Farms+Select+Winter+Blend+-+%2212%22+Oz&sa=X&ved=2ahUKEwizwO7tyZ-HAxXYSDABHRiZAUQQ5t4CegQIKhAB\n",
            "https://www.shaws.com/shop/product-details.970001559.html\n",
            "https://www.mercato.com/item/tj-farms-winter-blend-12-ounces/1693515?featuredStoreId=2654\n",
            "/search?sca_esv=d5f0ac5cf98c6d9c&q=TJ+Farms+%22Select%22+Winter+Blend+-+12+Oz&sa=X&ved=2ahUKEwizwO7tyZ-HAxXYSDABHRiZAUQQ5t4CegQIRBAB\n",
            "https://www.nutritionix.com/i/tj-farms-select/winter-blend/54fd1344a28818f4586f86cb\n",
            "/search?sca_esv=d5f0ac5cf98c6d9c&q=TJ+Farms+Select+Winter+Blend+-+12+%22Oz%22&sa=X&ved=2ahUKEwizwO7tyZ-HAxXYSDABHRiZAUQQ5t4CegQIPxAB\n",
            "/search?sca_esv=d5f0ac5cf98c6d9c&q=TJ+Farms+Select+Winter+Blend+-+12+Oz&udm=2&source=univ&fir=xuVLXnvEbYOa_M%252CIScyh80W3VMC5M%252C_%253BFOM4UFK1R0o4TM%252CN-ItxqH0Xb7nbM%252C_%253BCoVr01XreaZMGM%252CKd7FeuHb-D_0QM%252C_%253BsRwZjOBxNZ98fM%252C0CMPu-hbW_BtMM%252C_%253BRVgARYXYL3_uuM%252CzLstiXxkVpPKxM%252C_%253Bz_6PZmTR2Kf97M%252CyKLBwxZu9O3q4M%252C_%253Bv-bktKP5-qMDCM%252CKXKgH0VuVSeYJM%252C_%253BN3-lKngX1nk9OM%252Cf-0bh9OL4_9VHM%252C_%253BeCEBLjwoaKMshM%252CIScyh80W3VMC5M%252C_%253BzfQJVmczqRkLiM%252CJ8B_kzfjS-UlVM%252C_&usg=AI4_-kRNgqooqprJRWtpvQfoQ7pr6c1h5A\n",
            "https://www.joevsmartshop.com/product/tj-farms-select-frozen-winter-blend-12-oz/10704543\n",
            "https://www.fooducate.com/product/TJ-Farms-Winter-Blend/D1200EEC-5F25-11E2-AD7C-1231381A4CEA\n",
            "https://www.carbmanager.com/food-detail/nb:54fd1344a28818f4586f86cb/winter-blend\n",
            "https://www.festfoods.com/shop/frozen/vegetables/mixed_vegetables/tj_farms_vegetables_winter_blend/p/7448843\n",
            "/search?sca_esv=d5f0ac5cf98c6d9c&q=TJ+Farms+Select+Winter+Blend+-+12+Oz&udm=2&source=univ&fir=xuVLXnvEbYOa_M%252CIScyh80W3VMC5M%252C_%253BFOM4UFK1R0o4TM%252CN-ItxqH0Xb7nbM%252C_%253BCoVr01XreaZMGM%252CKd7FeuHb-D_0QM%252C_%253BsRwZjOBxNZ98fM%252C0CMPu-hbW_BtMM%252C_%253BRVgARYXYL3_uuM%252CzLstiXxkVpPKxM%252C_%253Bz_6PZmTR2Kf97M%252CyKLBwxZu9O3q4M%252C_%253Bv-bktKP5-qMDCM%252CKXKgH0VuVSeYJM%252C_%253BN3-lKngX1nk9OM%252Cf-0bh9OL4_9VHM%252C_%253BeCEBLjwoaKMshM%252CIScyh80W3VMC5M%252C_%253BzfQJVmczqRkLiM%252CJ8B_kzfjS-UlVM%252C_&usg=AI4_-kRNgqooqprJRWtpvQfoQ7pr6c1h5A&sa=X&ved=2ahUKEwizwO7tyZ-HAxXYSDABHRiZAUQQ7Al6BAg0EAo\n",
            "https://www.joevsmartshop.com/product/tj-farms-select-stir-fry-blend-12-oz/10704552\n",
            "/search?sca_esv=d5f0ac5cf98c6d9c&q=TJ+Farms+Select+%22Winter%22+Blend+-+12+Oz&sa=X&ved=2ahUKEwizwO7tyZ-HAxXYSDABHRiZAUQQ5t4CegQIShAB\n",
            "https://www.joevsmartshop.com/product/tj-farms-select-stir-fry-blend-12-oz/10704552\n",
            "https://www.myfitnesspal.com/nutrition-facts-calories/tj-farms-select\n",
            "/search?sca_esv=d5f0ac5cf98c6d9c&q=Tj+farms+select+winter+blend+12+oz+nutrition+facts&sa=X&ved=2ahUKEwizwO7tyZ-HAxXYSDABHRiZAUQQ1QJ6BAgzEAE\n",
            "/search?sca_esv=d5f0ac5cf98c6d9c&q=Tj+farms+select+winter+blend+12+oz+price&sa=X&ved=2ahUKEwizwO7tyZ-HAxXYSDABHRiZAUQQ1QJ6BAgyEAE\n",
            "/search?q=TJ+Farms+Select+Winter+Blend+-+12+Oz&sca_esv=d5f0ac5cf98c6d9c&ei=Cx-QZvOOONiRwbkPmLKGoAQ&start=10&sa=N&sstk=AagrsuiB8jvnJ6Rr4lTIlja7PE1JyJGLaQs4T1KJln_R3ASG2ooWx6EdHMWoRyRpNiwVpyMtDFLO7ycXJVFPKz0qohtIZdaSCEbRhA&ved=2ahUKEwizwO7tyZ-HAxXYSDABHRiZAUQQ8tMDegQIBhAE\n",
            "/search?q=TJ+Farms+Select+Winter+Blend+-+12+Oz&sca_esv=d5f0ac5cf98c6d9c&ei=Cx-QZvOOONiRwbkPmLKGoAQ&start=20&sa=N&sstk=AagrsuiB8jvnJ6Rr4lTIlja7PE1JyJGLaQs4T1KJln_R3ASG2ooWx6EdHMWoRyRpNiwVpyMtDFLO7ycXJVFPKz0qohtIZdaSCEbRhA&ved=2ahUKEwizwO7tyZ-HAxXYSDABHRiZAUQQ8tMDegQIBhAG\n",
            "/search?q=TJ+Farms+Select+Winter+Blend+-+12+Oz&sca_esv=d5f0ac5cf98c6d9c&ei=Cx-QZvOOONiRwbkPmLKGoAQ&start=30&sa=N&sstk=AagrsuiB8jvnJ6Rr4lTIlja7PE1JyJGLaQs4T1KJln_R3ASG2ooWx6EdHMWoRyRpNiwVpyMtDFLO7ycXJVFPKz0qohtIZdaSCEbRhA&ved=2ahUKEwizwO7tyZ-HAxXYSDABHRiZAUQQ8tMDegQIBhAI\n",
            "/search?q=TJ+Farms+Select+Winter+Blend+-+12+Oz&sca_esv=d5f0ac5cf98c6d9c&ei=Cx-QZvOOONiRwbkPmLKGoAQ&start=40&sa=N&sstk=AagrsuiB8jvnJ6Rr4lTIlja7PE1JyJGLaQs4T1KJln_R3ASG2ooWx6EdHMWoRyRpNiwVpyMtDFLO7ycXJVFPKz0qohtIZdaSCEbRhA&ved=2ahUKEwizwO7tyZ-HAxXYSDABHRiZAUQQ8tMDegQIBhAK\n",
            "/search?q=TJ+Farms+Select+Winter+Blend+-+12+Oz&sca_esv=d5f0ac5cf98c6d9c&ei=Cx-QZvOOONiRwbkPmLKGoAQ&start=50&sa=N&sstk=AagrsuiB8jvnJ6Rr4lTIlja7PE1JyJGLaQs4T1KJln_R3ASG2ooWx6EdHMWoRyRpNiwVpyMtDFLO7ycXJVFPKz0qohtIZdaSCEbRhA&ved=2ahUKEwizwO7tyZ-HAxXYSDABHRiZAUQQ8tMDegQIBhAM\n",
            "/search?q=TJ+Farms+Select+Winter+Blend+-+12+Oz&sca_esv=d5f0ac5cf98c6d9c&ei=Cx-QZvOOONiRwbkPmLKGoAQ&start=60&sa=N&sstk=AagrsuiB8jvnJ6Rr4lTIlja7PE1JyJGLaQs4T1KJln_R3ASG2ooWx6EdHMWoRyRpNiwVpyMtDFLO7ycXJVFPKz0qohtIZdaSCEbRhA&ved=2ahUKEwizwO7tyZ-HAxXYSDABHRiZAUQQ8tMDegQIBhAO\n",
            "/search?q=TJ+Farms+Select+Winter+Blend+-+12+Oz&sca_esv=d5f0ac5cf98c6d9c&ei=Cx-QZvOOONiRwbkPmLKGoAQ&start=70&sa=N&sstk=AagrsuiB8jvnJ6Rr4lTIlja7PE1JyJGLaQs4T1KJln_R3ASG2ooWx6EdHMWoRyRpNiwVpyMtDFLO7ycXJVFPKz0qohtIZdaSCEbRhA&ved=2ahUKEwizwO7tyZ-HAxXYSDABHRiZAUQQ8tMDegQIBhAQ\n",
            "/search?q=TJ+Farms+Select+Winter+Blend+-+12+Oz&sca_esv=d5f0ac5cf98c6d9c&ei=Cx-QZvOOONiRwbkPmLKGoAQ&start=80&sa=N&sstk=AagrsuiB8jvnJ6Rr4lTIlja7PE1JyJGLaQs4T1KJln_R3ASG2ooWx6EdHMWoRyRpNiwVpyMtDFLO7ycXJVFPKz0qohtIZdaSCEbRhA&ved=2ahUKEwizwO7tyZ-HAxXYSDABHRiZAUQQ8tMDegQIBhAS\n",
            "/search?q=TJ+Farms+Select+Winter+Blend+-+12+Oz&sca_esv=d5f0ac5cf98c6d9c&ei=Cx-QZvOOONiRwbkPmLKGoAQ&start=90&sa=N&sstk=AagrsuiB8jvnJ6Rr4lTIlja7PE1JyJGLaQs4T1KJln_R3ASG2ooWx6EdHMWoRyRpNiwVpyMtDFLO7ycXJVFPKz0qohtIZdaSCEbRhA&ved=2ahUKEwizwO7tyZ-HAxXYSDABHRiZAUQQ8tMDegQIBhAU\n",
            "/search?q=TJ+Farms+Select+Winter+Blend+-+12+Oz&sca_esv=d5f0ac5cf98c6d9c&ei=Cx-QZvOOONiRwbkPmLKGoAQ&start=10&sa=N&sstk=AagrsuiB8jvnJ6Rr4lTIlja7PE1JyJGLaQs4T1KJln_R3ASG2ooWx6EdHMWoRyRpNiwVpyMtDFLO7ycXJVFPKz0qohtIZdaSCEbRhA&ved=2ahUKEwizwO7tyZ-HAxXYSDABHRiZAUQQ8NMDegQIBhAW\n",
            "Top link: [<a href=\"/search?q=TJ+Farms+Select+Winter+Blend+-+12+Oz&amp;sca_esv=d5f0ac5cf98c6d9c&amp;gbv=1&amp;sei=Cx-QZvOOONiRwbkPmLKGoAQ\">here</a>, <a class=\"gyPpGe\" data-ved=\"0ahUKEwizwO7tyZ-HAxXYSDABHRiZAUQQ67oDCAU\" jsaction=\"i3viod\" jsname=\"BKxS1e\" role=\"link\" tabindex=\"0\">Skip to main content</a>, <a class=\"gyPpGe\" href=\"https://support.google.com/websearch/answer/181196?hl=en\" jsname=\"KI37ad\" ping=\"/url?sa=t&amp;source=web&amp;rct=j&amp;url=https://support.google.com/websearch/answer/181196%3Fhl%3Den&amp;ved=0ahUKEwizwO7tyZ-HAxXYSDABHRiZAUQQwcMDCAY&amp;bl=ATWa&amp;opi=89978449\">Accessibility help</a>, <a class=\"gyPpGe\" data-async-trigger=\"duf3-78\" jsaction=\"trigger.szjOR\" jsname=\"JUypV\" role=\"link\" tabindex=\"0\">Accessibility feedback</a>, <a data-hveid=\"8\" href=\"https://www.google.com/webhp?hl=en&amp;sa=X&amp;ved=0ahUKEwizwO7tyZ-HAxXYSDABHRiZAUQQPAgI\" id=\"logo\" title=\"Go to Google Home\"><img alt=\"Google\" class=\"jfN4p\" height=\"30\" src=\"/images/branding/googlelogo/2x/googlelogo_color_92x30dp.png\" style=\"background:none\" width=\"92\"/></a>, <a aria-expanded=\"false\" aria-label=\"Google apps\" class=\"gb_d\" href=\"https://www.google.com/intl/en/about/products?tab=wh\" role=\"button\" tabindex=\"0\"><svg class=\"gb_h\" focusable=\"false\" viewbox=\"0 0 24 24\"><path d=\"M6,8c1.1,0 2,-0.9 2,-2s-0.9,-2 -2,-2 -2,0.9 -2,2 0.9,2 2,2zM12,20c1.1,0 2,-0.9 2,-2s-0.9,-2 -2,-2 -2,0.9 -2,2 0.9,2 2,2zM6,20c1.1,0 2,-0.9 2,-2s-0.9,-2 -2,-2 -2,0.9 -2,2 0.9,2 2,2zM6,14c1.1,0 2,-0.9 2,-2s-0.9,-2 -2,-2 -2,0.9 -2,2 0.9,2 2,2zM12,14c1.1,0 2,-0.9 2,-2s-0.9,-2 -2,-2 -2,0.9 -2,2 0.9,2 2,2zM16,6c0,1.1 0.9,2 2,2s2,-0.9 2,-2 -0.9,-2 -2,-2 -2,0.9 -2,2zM12,8c1.1,0 2,-0.9 2,-2s-0.9,-2 -2,-2 -2,0.9 -2,2 0.9,2 2,2zM18,14c1.1,0 2,-0.9 2,-2s-0.9,-2 -2,-2 -2,0.9 -2,2 0.9,2 2,2zM18,20c1.1,0 2,-0.9 2,-2s-0.9,-2 -2,-2 -2,0.9 -2,2 0.9,2 2,2z\"></path><image alt=\"\" height=\"24\" src=\"https://ssl.gstatic.com/gb/images/bar/al-icon.png\" style=\"border:none;display:none \\9\" width=\"24\"/></svg></a>, <a aria-label=\"Sign in\" class=\"gb_c\" href=\"https://accounts.google.com/ServiceLogin?hl=en&amp;passive=true&amp;continue=https://www.google.com/search%3Fq%3D%2520TJ%2520Farms%2520Select%2520Winter%2520Blend%2520-%252012%2520Oz%2520&amp;ec=futura_gmv_dt_so_72586115_e\" target=\"_top\"><span class=\"gb_s\">Sign in</span></a>, <a class=\"nPDzT T3FoJb\" data-hveid=\"CAsQAQ\" data-ved=\"2ahUKEwizwO7tyZ-HAxXYSDABHRiZAUQQtKgLegQICxAB\" href=\"/search?sca_esv=d5f0ac5cf98c6d9c&amp;q=TJ+Farms+Select+Winter+Blend+-+12+Oz&amp;udm=28&amp;fbs=AEQNm0BglSNKPbDQcL4Et01QEIYvJ5VGsHgUL_tsKqYywhWXkknveTpaLEIQiU02u5i1FK5Aui8Lbcs6UtNG0K_ZRX5_Sfaez_nbio7ZevU-01UapIxO69dMWeVTKP_UKwkGJCi-gm4_XCwzeGcd3iWHdX18pJO4SCbD0xKKCtmS-V7RqxnCEfTZFtgpF81MF2iMynb0DJhUqRTMt9YhJKKaN0U-I1PLrg&amp;sa=X&amp;ved=2ahUKEwizwO7tyZ-HAxXYSDABHRiZAUQQtKgLegQICxAB\" jsname=\"VIftV\" role=\"link\"><div class=\"YmvwI\" jsname=\"bVqjv\">Shopping</div></a>, <a class=\"nPDzT T3FoJb\" data-hveid=\"CAoQAQ\" data-ved=\"2ahUKEwizwO7tyZ-HAxXYSDABHRiZAUQQtKgLegQIChAB\" href=\"/search?sca_esv=d5f0ac5cf98c6d9c&amp;q=TJ+Farms+Select+Winter+Blend+-+12+Oz&amp;udm=2&amp;fbs=AEQNm0BglSNKPbDQcL4Et01QEIYvJ5VGsHgUL_tsKqYywhWXkknveTpaLEIQiU02u5i1FK5Aui8Lbcs6UtNG0K_ZRX5_Sfaez_nbio7ZevU-01UapIxO69dMWeVTKP_UKwkGJCi-gm4_XCwzeGcd3iWHdX18pJO4SCbD0xKKCtmS-V7RqxnCEfTZFtgpF81MF2iMynb0DJhUqRTMt9YhJKKaN0U-I1PLrg&amp;sa=X&amp;ved=2ahUKEwizwO7tyZ-HAxXYSDABHRiZAUQQtKgLegQIChAB\" jsname=\"VIftV\" role=\"link\"><div class=\"YmvwI\" jsname=\"bVqjv\">Images</div></a>, <a class=\"LatpMc nPDzT T3FoJb\" data-hveid=\"CA0QAQ\" data-ved=\"2ahUKEwizwO7tyZ-HAxXYSDABHRiZAUQQ0pQJegQIDRAB\" href=\"/search?sca_esv=d5f0ac5cf98c6d9c&amp;q=TJ+Farms+Select+Winter+Blend+-+12+Oz&amp;tbm=vid&amp;source=lnms&amp;fbs=AEQNm0BglSNKPbDQcL4Et01QEIYvJ5VGsHgUL_tsKqYywhWXkknveTpaLEIQiU02u5i1FK5Aui8Lbcs6UtNG0K_ZRX5_Sfaez_nbio7ZevU-01UapIxO69dMWeVTKP_UKwkGJCi-gm4_XCwzeGcd3iWHdX18pJO4SCbD0xKKCtmS-V7RqxnCEfTZFtgpF81MF2iMynb0DJhUqRTMt9YhJKKaN0U-I1PLrg&amp;sa=X&amp;ved=2ahUKEwizwO7tyZ-HAxXYSDABHRiZAUQQ0pQJegQIDRAB\" jsname=\"VIftV\" role=\"link\"><div class=\"YmvwI\" jsname=\"bVqjv\">Videos</div></a>, <a class=\"nPDzT T3FoJb\" data-hveid=\"CA4QAQ\" data-ved=\"2ahUKEwizwO7tyZ-HAxXYSDABHRiZAUQQs6gLegQIDhAB\" href=\"/search?sca_esv=d5f0ac5cf98c6d9c&amp;q=TJ+Farms+Select+Winter+Blend+-+12+Oz&amp;udm=18&amp;fbs=AEQNm0BglSNKPbDQcL4Et01QEIYvJ5VGsHgUL_tsKqYywhWXkknveTpaLEIQiU02u5i1FK5Aui8Lbcs6UtNG0K_ZRX5_Sfaez_nbio7ZevU-01UapIxO69dMWeVTKP_UKwkGJCi-gm4_XCwzeGcd3iWHdX18pJO4SCbD0xKKCtmS-V7RqxnCEfTZFtgpF81MF2iMynb0DJhUqRTMt9YhJKKaN0U-I1PLrg&amp;sa=X&amp;ved=2ahUKEwizwO7tyZ-HAxXYSDABHRiZAUQQs6gLegQIDhAB\" jsname=\"VIftV\" role=\"link\"><div class=\"YmvwI\" jsname=\"bVqjv\">Forums</div></a>, <a aria-label=\"Filter by Nearby.\" data-hveid=\"CBEQAw\" data-ved=\"2ahUKEwizwO7tyZ-HAxXYSDABHRiZAUQQip4GKAB6BAgREAM\" href=\"/search?q=TJ+Farms+Select+Winter+Blend+-+12+Oz+nearby&amp;shoprs=CAEYAyoidGogZmFybXMgc2VsZWN0IHdpbnRlciBibGVuZCAxMiBvejIMCAMSBk5lYXJieRgCWLfLH2AB&amp;sa=X&amp;ved=2ahUKEwizwO7tyZ-HAxXYSDABHRiZAUQQip4GKAB6BAgREAM\" jsname=\"r1Cq2c\"><div aria-hidden=\"true\" class=\"JxvY\" jsname=\"zUDGNb\" style=\"width:18px;height:18px\"><div class=\"Xpzufe\"><span class=\"z1asCe ToMkpe\" style=\"height:18px;line-height:18px;width:18px\"><svg focusable=\"false\" viewbox=\"0 0 24 24\" xmlns=\"http://www.w3.org/2000/svg\"><path d=\"M12 2C8.13 2 5 5.13 5 9c0 5.25 7 13 7 13s7-7.75 7-13c0-3.87-3.13-7-7-7zM7 9c0-2.76 2.24-5 5-5s5 2.24 5 5c0 2.88-2.88 7.19-5 9.88C9.92 16.21 7 11.85 7 9z\"></path><circle cx=\"12\" cy=\"9\" r=\"2.5\"></circle></svg></span></div></div><div class=\"sfgTZc GLS4zf\" jsname=\"fS0mae\">Nearby</div></a>, <a aria-label=\"Filter by Get it fast.\" data-hveid=\"CBEQBA\" data-ved=\"2ahUKEwizwO7tyZ-HAxXYSDABHRiZAUQQip4GKAF6BAgREAQ\" href=\"/search?q=tj+farms+select+winter+blend+12+oz&amp;shoprs=CAESDZoBCgoIEAM4AUAHSAEYFCoidGogZmFybXMgc2VsZWN0IHdpbnRlciBibGVuZCAxMiBvejIkCBQSC0dldCBpdCBmYXN0Ig2aAQoKCBADOAFAB0gBKgQQARgBYAE&amp;sa=X&amp;ved=2ahUKEwizwO7tyZ-HAxXYSDABHRiZAUQQip4GKAF6BAgREAQ\" jsname=\"r1Cq2c\"><div class=\"sfgTZc z7bqQc\" jsname=\"fS0mae\">Get it fast</div></a>, <a aria-label=\"Filter by On sale.\" data-hveid=\"CBEQBQ\" data-ved=\"2ahUKEwizwO7tyZ-HAxXYSDABHRiZAUQQip4GKAJ6BAgREAU\" href=\"/search?q=TJ+Farms+Select+Winter+Blend+-+12+Oz+sale&amp;shoprs=CAESBEoCGAEYBioidGogZmFybXMgc2VsZWN0IHdpbnRlciBibGVuZCAxMiBvejITCAYSB09uIHNhbGUYAiIESgIYAVi3yx9gAQ&amp;sa=X&amp;ved=2ahUKEwizwO7tyZ-HAxXYSDABHRiZAUQQip4GKAJ6BAgREAU\" jsname=\"r1Cq2c\"><div class=\"sfgTZc z7bqQc\" jsname=\"fS0mae\">On sale</div></a>, <a aria-label=\"Filter by Coffee.\" data-hveid=\"CBEQBg\" data-ved=\"2ahUKEwizwO7tyZ-HAxXYSDABHRiZAUQQip4GKAN6BAgREAY\" href=\"/search?q=coffee+tj+farms+select+winter+blend+12+oz&amp;shoprs=CAEYCSoidGogZmFybXMgc2VsZWN0IHdpbnRlciBibGVuZCAxMiBvejIKCAkSBkNvZmZlZWAB&amp;sa=X&amp;ved=2ahUKEwizwO7tyZ-HAxXYSDABHRiZAUQQip4GKAN6BAgREAY\" jsname=\"r1Cq2c\"><div class=\"sfgTZc z7bqQc\" jsname=\"fS0mae\">Coffee</div></a>, <a aria-label=\"Filter by Tea.\" data-hveid=\"CBEQBw\" data-ved=\"2ahUKEwizwO7tyZ-HAxXYSDABHRiZAUQQip4GKAR6BAgREAc\" href=\"/search?q=tea+tj+farms+select+winter+blend+12+oz&amp;shoprs=CAEYCSoidGogZmFybXMgc2VsZWN0IHdpbnRlciBibGVuZCAxMiBvejIHCAkSA1RlYWAB&amp;sa=X&amp;ved=2ahUKEwizwO7tyZ-HAxXYSDABHRiZAUQQip4GKAR6BAgREAc\" jsname=\"r1Cq2c\"><div class=\"sfgTZc z7bqQc\" jsname=\"fS0mae\">Tea</div></a>, <a aria-label=\"Filter by Organic.\" data-hveid=\"CBEQCA\" data-ved=\"2ahUKEwizwO7tyZ-HAxXYSDABHRiZAUQQip4GKAV6BAgREAg\" href=\"/search?q=organic+tj+farms+select+winter+blend+12+oz&amp;shoprs=CAEYASoidGogZmFybXMgc2VsZWN0IHdpbnRlciBibGVuZCAxMiBvejIZCAESB09yZ2FuaWM6DAi--YcBEL_5hwEwA1i3yx9gAQ&amp;sa=X&amp;ved=2ahUKEwizwO7tyZ-HAxXYSDABHRiZAUQQip4GKAV6BAgREAg\" jsname=\"r1Cq2c\"><div class=\"sfgTZc z7bqQc\" jsname=\"fS0mae\">Organic</div></a>, <a aria-label=\"Filter by Walmart.\" data-hveid=\"CBEQCQ\" data-ved=\"2ahUKEwizwO7tyZ-HAxXYSDABHRiZAUQQip4GKAZ6BAgREAk\" href=\"/search?q=walmart+tj+farms+select+winter+blend+12+oz&amp;shoprs=CAEYAioidGogZmFybXMgc2VsZWN0IHdpbnRlciBibGVuZCAxMiBvejILCAISB1dhbG1hcnRYt8sfYAE&amp;sa=X&amp;ved=2ahUKEwizwO7tyZ-HAxXYSDABHRiZAUQQip4GKAZ6BAgREAk\" jsname=\"r1Cq2c\"><div aria-hidden=\"true\" class=\"qfsfFc\" jsname=\"zUDGNb\"><div class=\"PtFWkc\"><img alt=\"Walmart\" class=\"uH3eqb F3Utw\" data-deferred=\"1\" id=\"fvc_1\" jsaction=\"error:JqRO3d\" jscontroller=\"l51Mie\" src=\"data:image/gif;base64,R0lGODlhAQABAIAAAP///////yH5BAEKAAEALAAAAAABAAEAAAICTAEAOw==\" style=\"height:20px;width:20px\"/><div class=\"FvuBY\"><span class=\"Zks41e\" style=\"background-color:#AF5CF7;height:20px;width:20px;line-height:20px;font-size:14px\">W</span></div></div></div><div class=\"sfgTZc\" jsname=\"fS0mae\">Walmart</div></a>, <a aria-label=\"Filter by Juice.\" data-hveid=\"CBEQCw\" data-ved=\"2ahUKEwizwO7tyZ-HAxXYSDABHRiZAUQQip4GKAd6BAgREAs\" href=\"/search?q=juice+tj+farms+select+winter+blend+12+oz&amp;shoprs=CAEYCSoidGogZmFybXMgc2VsZWN0IHdpbnRlciBibGVuZCAxMiBvejIJCAkSBUp1aWNlYAE&amp;sa=X&amp;ved=2ahUKEwizwO7tyZ-HAxXYSDABHRiZAUQQip4GKAd6BAgREAs\" jsname=\"r1Cq2c\"><div class=\"sfgTZc z7bqQc\" jsname=\"fS0mae\">Juice</div></a>, <a aria-label=\"Filter by Dog Food.\" data-hveid=\"CBEQDA\" data-ved=\"2ahUKEwizwO7tyZ-HAxXYSDABHRiZAUQQip4GKAh6BAgREAw\" href=\"/search?q=dog+food+tj+farms+select+winter+blend+12+oz&amp;shoprs=CAEYCSoidGogZmFybXMgc2VsZWN0IHdpbnRlciBibGVuZCAxMiBvejIMCAkSCERvZyBGb29kYAE&amp;sa=X&amp;ved=2ahUKEwizwO7tyZ-HAxXYSDABHRiZAUQQip4GKAh6BAgREAw\" jsname=\"r1Cq2c\"><div class=\"sfgTZc z7bqQc\" jsname=\"fS0mae\">Dog Food</div></a>, <a aria-label=\"Filter by Caffeine-free.\" data-hveid=\"CBEQDQ\" data-ved=\"2ahUKEwizwO7tyZ-HAxXYSDABHRiZAUQQip4GKAl6BAgREA0\" href=\"/search?q=caffeine-free+tj+farms+select+winter+blend+12+oz&amp;shoprs=CAEYASoidGogZmFybXMgc2VsZWN0IHdpbnRlciBibGVuZCAxMiBvejIfCAESDUNhZmZlaW5lLWZyZWU6DAig8YoBEKHxigEwA1i3yx9gAQ&amp;sa=X&amp;ved=2ahUKEwizwO7tyZ-HAxXYSDABHRiZAUQQip4GKAl6BAgREA0\" jsname=\"r1Cq2c\"><div class=\"sfgTZc z7bqQc\" jsname=\"fS0mae\">Caffeine-free</div></a>, <a aria-label=\"Filter by eBay.\" data-hveid=\"CBEQDg\" data-ved=\"2ahUKEwizwO7tyZ-HAxXYSDABHRiZAUQQip4GKAp6BAgREA4\" href=\"/search?q=ebay+tj+farms+select+winter+blend+12+oz&amp;shoprs=CAEYAioidGogZmFybXMgc2VsZWN0IHdpbnRlciBibGVuZCAxMiBvejIICAISBGVCYXlYt8sfYAE&amp;sa=X&amp;ved=2ahUKEwizwO7tyZ-HAxXYSDABHRiZAUQQip4GKAp6BAgREA4\" jsname=\"r1Cq2c\"><div aria-hidden=\"true\" class=\"qfsfFc\" jsname=\"zUDGNb\"><div class=\"PtFWkc\"><img alt=\"eBay\" class=\"uH3eqb F3Utw\" data-deferred=\"1\" id=\"fvc_3\" jsaction=\"error:JqRO3d\" jscontroller=\"l51Mie\" src=\"data:image/gif;base64,R0lGODlhAQABAIAAAP///////yH5BAEKAAEALAAAAAABAAEAAAICTAEAOw==\" style=\"height:20px;width:20px\"/><div class=\"FvuBY\"><span class=\"Zks41e\" style=\"background-color:#FA903E;height:20px;width:20px;line-height:20px;font-size:14px\">E</span></div></div></div><div class=\"sfgTZc\" jsname=\"fS0mae\">eBay</div></a>, <a aria-label=\"Filter by Under $10.\" data-hveid=\"CBEQEA\" data-ved=\"2ahUKEwizwO7tyZ-HAxXYSDABHRiZAUQQip4GKAt6BAgREBA\" href=\"/search?q=TJ+Farms+Select+Winter+Blend+-+12+Oz+under+$10&amp;shoprs=CAESDRILEQAAAADQEmNBGAEYBSoidGogZmFybXMgc2VsZWN0IHdpbnRlciBibGVuZCAxMiBvejIiCAUSCVVuZGVyICQxMBgCIg0SCxEAAAAA0BJjQRgBKgIYAVi3yx9gAQ&amp;sa=X&amp;ved=2ahUKEwizwO7tyZ-HAxXYSDABHRiZAUQQip4GKAt6BAgREBA\" jsname=\"r1Cq2c\"><div class=\"sfgTZc z7bqQc\" jsname=\"fS0mae\">Under $10</div></a>, <a data-ved=\"2ahUKEwizwO7tyZ-HAxXYSDABHRiZAUQQFnoECB8QAQ\" href=\"https://www.joevsmartshop.com/product/tj-farms-select-frozen-winter-blend-12-oz/10704543\" jsname=\"UWckNb\" ping=\"/url?sa=t&amp;source=web&amp;rct=j&amp;opi=89978449&amp;url=https://www.joevsmartshop.com/product/tj-farms-select-frozen-winter-blend-12-oz/10704543&amp;ved=2ahUKEwizwO7tyZ-HAxXYSDABHRiZAUQQFnoECB8QAQ\"><br/><h3 class=\"LC20lb MBeuO DKV0Md\">TJ Farms Select Frozen Winter Blend, 12 oz</h3><div class=\"notranslate HGLrXd NJjxre iUh30 ojE3Fb\"><div class=\"q0vns\"><span class=\"H9lube\"><div aria-hidden=\"true\" class=\"eqA2re NjwKYd Vwoesf\"><img alt=\"\" class=\"XNo5Ab\" src=\"data:image/avif;base64,AAAAIGZ0eXBhdmlmAAAAAGF2aWZtaWYxbWlhZk1BMUIAAAGNbWV0YQAAAAAAAAAoaGRscgAAAAAAAAAAcGljdAAAAAAAAAAAAAAAAGxpYmF2aWYAAAAADnBpdG0AAAAAAAEAAAAsaWxvYwAAAABEAAACAAEAAAABAAAB7QAAAa4AAgAAAAEAAAG1AAAAOAAAAEJpaW5mAAAAAAACAAAAGmluZmUCAAAAAAEAAGF2MDFDb2xvcgAAAAAaaW5mZQIAAAAAAgAAYXYwMUFscGhhAAAAABppcmVmAAAAAAAAAA5hdXhsAAIAAQABAAAAw2lwcnAAAACdaXBjbwAAABRpc3BlAAAAAAAAACAAAAAgAAAAEHBpeGkAAAAAAwgICAAAAAxhdjFDgQAMAAAAABNjb2xybmNseAACAAIABoAAAAAOcGl4aQAAAAABCAAAAAxhdjFDgQAcAAAAADhhdXhDAAAAAHVybjptcGVnOm1wZWdCOmNpY3A6c3lzdGVtczphdXhpbGlhcnk6YWxwaGEAAAAAHmlwbWEAAAAAAAAAAgABBAECgwQAAgQBBYYHAAAB7m1kYXQSAAoFGBE/9hUyLUYACihQyBF26CYs6LDB641rfVEKIXVli4wcAd3p0G9ky7s5NvCFRp5qUDJxoBIACgkYET/2CBAQNCAyngMYAAooooUA0UhucJgifvPJhkzZi6QnzVir7pcfqoY5DdaLTOLhDYQohv/rOxN5otrsxsrrU7enLYcm8tlGRkKmuIRVv6e2lvOeJidiVMw45Ussu0C8THCvu5E/W0NxruDO+RMZFIpHUMXU/5F0/cWNIcL5+YTZpr8mjKU5McxPjGZUICRK5JiF8jcwUxnboRUIz0E4jP8DOWC00vL51BQag6Q+Hq4CV4e5oMPJH5n11RXeVe7xZntV5kLyMPPLKebLxCOXtaUeU9F+rwDkDxGtz0hemo95t0eBixBdF0+uIQG3r2bmIFuyyxcgOtCT8gaVDiBcl51pGiUyhPcr/0uqIoqjb/MVvgFiIxt3vTMUQLcnh0UGKipFdhuRmvfXlQ/B81iLpl1Ua5Wb4sxOJpjMY50hqmDSc5fmzCdModiXxU0S8tIlk3RBBgApRo8zuNGQnKo9R85ez0zm0w7JVSigNyTGHLFSA3e2qxxbhhbu608W8jGVbqSxy+txy+c1XfjqKfuYy8IpCb51zfCpI5EgGijmu2BRRrzKZsss84A=\" style=\"height:18px;width:18px\"/></div></span><div class=\"CA5RN\"><div><span class=\"VuuXrf\">Joe V's Smart Shop</span></div><div class=\"byrV5b\"><cite class=\"qLRx3b tjvcx GvPZzd cHaqb\" role=\"text\">https://www.joevsmartshop.com<span class=\"ylgVCe ob9lvb\" role=\"text\"> › product › tj-farms-sele...</span></cite></div></div></div></div></a>, <a data-ved=\"2ahUKEwizwO7tyZ-HAxXYSDABHRiZAUQQqa4BegQIJBAA\" href=\"https://www.joevsmartshop.com/product/tj-farms-select-frozen-winter-blend-12-oz/10704543\" ping=\"/url?sa=t&amp;source=web&amp;rct=j&amp;opi=89978449&amp;url=https://www.joevsmartshop.com/product/tj-farms-select-frozen-winter-blend-12-oz/10704543&amp;ved=2ahUKEwizwO7tyZ-HAxXYSDABHRiZAUQQqa4BegQIJBAA\"><div class=\"Y9Xc3e rMkKgf\" style=\"background:#fff;width:204px;height:114px;margin-top:0px;max-height:114px\"><div class=\"fiar4\" style=\"padding-top:100.000%\"><div class=\"sX59Pb oLJ4Uc\" style=\"max-width:114px\"><img alt=\"TJ Farms Select Winter Blend - 12 Oz from www.joevsmartshop.com\" class=\"IOZdEc RrNlDb\" data-deferred=\"1\" id=\"rimg_7\" src=\"data:image/gif;base64,R0lGODlhAQABAIAAAP///////yH5BAEKAAEALAAAAAABAAEAAAICTAEAOw==\"/></div></div><div class=\"vAamwe\"></div></div></a>, <a data-ved=\"2ahUKEwizwO7tyZ-HAxXYSDABHRiZAUQQFnoECBkQAQ\" href=\"https://www.doordash.com/products/tj-farms-select-winter-blend-vegetables-12-oz/urpc_4d1b93e0-f2b9-40fd-96cf-46d6c4252b45\" jsname=\"UWckNb\" ping=\"/url?sa=t&amp;source=web&amp;rct=j&amp;opi=89978449&amp;url=https://www.doordash.com/products/tj-farms-select-winter-blend-vegetables-12-oz/urpc_4d1b93e0-f2b9-40fd-96cf-46d6c4252b45&amp;ved=2ahUKEwizwO7tyZ-HAxXYSDABHRiZAUQQFnoECBkQAQ\"><br/><h3 class=\"LC20lb MBeuO DKV0Md\">Tj Farms Select Winter Blend Vegetables (12 oz)</h3><div class=\"notranslate HGLrXd NJjxre iUh30 ojE3Fb\"><div class=\"q0vns\"><span class=\"H9lube\"><div aria-hidden=\"true\" class=\"eqA2re NjwKYd Vwoesf\"><img alt=\"\" class=\"XNo5Ab\" src=\"data:image/avif;base64,AAAAIGZ0eXBhdmlmAAAAAGF2aWZtaWYxbWlhZk1BMUIAAAGNbWV0YQAAAAAAAAAoaGRscgAAAAAAAAAAcGljdAAAAAAAAAAAAAAAAGxpYmF2aWYAAAAADnBpdG0AAAAAAAEAAAAsaWxvYwAAAABEAAACAAEAAAABAAACOwAAAFkAAgAAAAEAAAG1AAAAhgAAAEJpaW5mAAAAAAACAAAAGmluZmUCAAAAAAEAAGF2MDFDb2xvcgAAAAAaaW5mZQIAAAAAAgAAYXYwMUFscGhhAAAAABppcmVmAAAAAAAAAA5hdXhsAAIAAQABAAAAw2lwcnAAAACdaXBjbwAAABRpc3BlAAAAAAAAACAAAAAgAAAAEHBpeGkAAAAAAwgICAAAAAxhdjFDgQAMAAAAABNjb2xybmNseAACAAIABoAAAAAOcGl4aQAAAAABCAAAAAxhdjFDgQAcAAAAADhhdXhDAAAAAHVybjptcGVnOm1wZWdCOmNpY3A6c3lzdGVtczphdXhpbGlhcnk6YWxwaGEAAAAAHmlwbWEAAAAAAAAAAgABBAECgwQAAgQBBYYHAAAA521kYXQSAAoFGBE/9hUyexgAKKFAzwv0HOs5EhXwdHffImePSSzn8Yv9ANr1raxGe+dRBrf9fD8NBjaiVv+MrPRRFfRBX5YcfHsDhIlPLgebfKETleByUVIXW2k3c/QNqGyWFoh+JD1C5R4Ezmq5gneYaRk7vsh926OGfFaRzFtPrAxew05JDeuBUBIACgkYET/2CBAQNCAySkYAAooooUDLwW2pXz0pf7KERPTlJqMqqqsYddag9hgz5fBmwp3O21gmdIBu8ix6qv3HMvyqp1QzO1x35EiFXikIor0Z90FMcb5Q\" style=\"height:18px;width:18px\"/></div></span><div class=\"CA5RN\"><div><span class=\"VuuXrf\">DoorDash</span></div><div class=\"byrV5b\"><cite class=\"qLRx3b tjvcx GvPZzd cHaqb\" role=\"text\">https://www.doordash.com<span class=\"ylgVCe ob9lvb\" role=\"text\"> › products › tj-farms-select-w...</span></cite></div></div></div></div></a>, <a data-ved=\"2ahUKEwizwO7tyZ-HAxXYSDABHRiZAUQQFnoECB0QAQ\" href=\"https://www.fooducate.com/product/TJ-Farms-Winter-Blend/D1200EEC-5F25-11E2-AD7C-1231381A4CEA\" jsname=\"UWckNb\" ping=\"/url?sa=t&amp;source=web&amp;rct=j&amp;opi=89978449&amp;url=https://www.fooducate.com/product/TJ-Farms-Winter-Blend/D1200EEC-5F25-11E2-AD7C-1231381A4CEA&amp;ved=2ahUKEwizwO7tyZ-HAxXYSDABHRiZAUQQFnoECB0QAQ\"><br/><h3 class=\"LC20lb MBeuO DKV0Md\">TJ Farms Winter Blend: Calories, Nutrition Analysis &amp; More</h3><div class=\"notranslate HGLrXd NJjxre iUh30 ojE3Fb\"><div class=\"q0vns\"><span class=\"DDKf1c\"><div aria-hidden=\"true\" class=\"eqA2re UnOTSe Vwoesf\"><img alt=\"\" class=\"XNo5Ab\" src=\"data:image/avif;base64,AAAAIGZ0eXBhdmlmAAAAAGF2aWZtaWYxbWlhZk1BMUIAAAGNbWV0YQAAAAAAAAAoaGRscgAAAAAAAAAAcGljdAAAAAAAAAAAAAAAAGxpYmF2aWYAAAAADnBpdG0AAAAAAAEAAAAsaWxvYwAAAABEAAACAAEAAAABAAACSAAAAN0AAgAAAAEAAAG1AAAAkwAAAEJpaW5mAAAAAAACAAAAGmluZmUCAAAAAAEAAGF2MDFDb2xvcgAAAAAaaW5mZQIAAAAAAgAAYXYwMUFscGhhAAAAABppcmVmAAAAAAAAAA5hdXhsAAIAAQABAAAAw2lwcnAAAACdaXBjbwAAABRpc3BlAAAAAAAAABwAAAAcAAAAEHBpeGkAAAAAAwgICAAAAAxhdjFDgQAMAAAAABNjb2xybmNseAACAAIABoAAAAAOcGl4aQAAAAABCAAAAAxhdjFDgQAcAAAAADhhdXhDAAAAAHVybjptcGVnOm1wZWdCOmNpY3A6c3lzdGVtczphdXhpbGlhcnk6YWxwaGEAAAAAHmlwbWEAAAAAAAAAAgABBAECgwQAAgQBBYYHAAABeG1kYXQSAAoFGBE3thUyhwEYACihQM8L9BzrJ0i2vO8il9ShRAB/Q5CjGlJDg049pmKSQIn8CP7IjynoPc84WTyVUvCCS6e8g8akQca/Bd67krXrrYemD4F5rr1ADyRHSzcZqL2QHoLFa7V6lMqfJn17dYJBIsqphVKrZg0kVajg5ism0ch7QJ0ho97RO9Q0/W0UL1wh3SkSAAoJGBE3tggQEDQgMs0BGAAKKKKFAM8J9geF03UPZPUGmLqWywg1yjdlEc9x8NBf9f4+vAyfAnt3F/uNXaXQKzH04jvvkiEQrejocZ7r+oOv7aLWxLasOHMoeCnUSgbxIX+w+Kb4UiYGiyEIiMicZ2AqIG3JRLSiyMtu04jtcc8vL+ySK28qEm/LSPV1GI9W157zid/h6JSQm0B1pZCmixXpIlW2wXxPHUEt5Nbep0r2LPR9E9YuSqcLWe4XkNIAhgWIv2ZSW29ToeMBFhm/JA8/AQhi1I+JLHwDgA==\" style=\"height:26px;width:26px\"/></div></span><div class=\"CA5RN\"><div><span class=\"VuuXrf\">Fooducate</span></div><div class=\"byrV5b\"><cite class=\"qLRx3b tjvcx GvPZzd cHaqb\" role=\"text\">https://www.fooducate.com<span class=\"ylgVCe ob9lvb\" role=\"text\"> › product › TJ-Farms-Wint...</span></cite></div></div></div></div></a>, <a class=\"fl\" href=\"/search?sca_esv=d5f0ac5cf98c6d9c&amp;q=TJ+Farms+%22Select%22+Winter+Blend+-+12+Oz&amp;sa=X&amp;ved=2ahUKEwizwO7tyZ-HAxXYSDABHRiZAUQQ5t4CegQIKxAB\"><span>Select</span></a>, <a data-ved=\"2ahUKEwizwO7tyZ-HAxXYSDABHRiZAUQQqa4BegQIIBAA\" href=\"https://www.fooducate.com/product/TJ-Farms-Winter-Blend/D1200EEC-5F25-11E2-AD7C-1231381A4CEA\" ping=\"/url?sa=t&amp;source=web&amp;rct=j&amp;opi=89978449&amp;url=https://www.fooducate.com/product/TJ-Farms-Winter-Blend/D1200EEC-5F25-11E2-AD7C-1231381A4CEA&amp;ved=2ahUKEwizwO7tyZ-HAxXYSDABHRiZAUQQqa4BegQIIBAA\"><div class=\"Y9Xc3e rMkKgf\" style=\"background:#fff;width:204px;height:114px;margin-top:0px;max-height:114px\"><div class=\"fiar4\" style=\"padding-top:100.000%\"><div class=\"sX59Pb oLJ4Uc\" style=\"max-width:114px\"><img alt=\"TJ Farms Select Winter Blend - 12 Oz from www.fooducate.com\" class=\"IOZdEc RrNlDb\" data-deferred=\"1\" id=\"rimg_5\" src=\"data:image/gif;base64,R0lGODlhAQABAIAAAP///////yH5BAEKAAEALAAAAAABAAEAAAICTAEAOw==\"/></div></div><div class=\"vAamwe\"></div></div></a>, <a data-ved=\"2ahUKEwizwO7tyZ-HAxXYSDABHRiZAUQQFnoECBoQAQ\" href=\"https://www.randalls.com/shop/product-details.970001559.html\" jsname=\"UWckNb\" ping=\"/url?sa=t&amp;source=web&amp;rct=j&amp;opi=89978449&amp;url=https://www.randalls.com/shop/product-details.970001559.html&amp;ved=2ahUKEwizwO7tyZ-HAxXYSDABHRiZAUQQFnoECBoQAQ\"><br/><h3 class=\"LC20lb MBeuO DKV0Md\">Tj Farms Select Winter Blend - 16 OZ</h3><div class=\"notranslate HGLrXd NJjxre iUh30 ojE3Fb\"><div class=\"q0vns\"><span class=\"DDKf1c\"><div aria-hidden=\"true\" class=\"eqA2re UnOTSe Vwoesf\"><img alt=\"\" class=\"XNo5Ab\" src=\"data:image/avif;base64,AAAAIGZ0eXBhdmlmAAAAAGF2aWZtaWYxbWlhZk1BMUIAAAGNbWV0YQAAAAAAAAAoaGRscgAAAAAAAAAAcGljdAAAAAAAAAAAAAAAAGxpYmF2aWYAAAAADnBpdG0AAAAAAAEAAAAsaWxvYwAAAABEAAACAAEAAAABAAACeAAAAHgAAgAAAAEAAAG1AAAAwwAAAEJpaW5mAAAAAAACAAAAGmluZmUCAAAAAAEAAGF2MDFDb2xvcgAAAAAaaW5mZQIAAAAAAgAAYXYwMUFscGhhAAAAABppcmVmAAAAAAAAAA5hdXhsAAIAAQABAAAAw2lwcnAAAACdaXBjbwAAABRpc3BlAAAAAAAAABwAAAAcAAAAEHBpeGkAAAAAAwgICAAAAAxhdjFDgQAMAAAAABNjb2xybmNseAACAAIABoAAAAAOcGl4aQAAAAABCAAAAAxhdjFDgQAcAAAAADhhdXhDAAAAAHVybjptcGVnOm1wZWdCOmNpY3A6c3lzdGVtczphdXhpbGlhcnk6YWxwaGEAAAAAHmlwbWEAAAAAAAAAAgABBAECgwQAAgQBBYYHAAABQ21kYXQSAAoFGBE3thUytwEYACihQM//sJN11GZPmML3jrsEzCvVxhof6Uvfx8CA0MDkFxibwqSDZceRlWEdbuk9DhUo6zxFRS8/rJQXDyfQ7PfEOKRKsJTrELcbdXK/LEhWaF7DL3wIwPXwFUEuGvkvbcsEVF/WwtrKOlqHZ4qHhp6PFoy61fb+XR6ow3P5w1lth3sOyO92lo9BMMt8D+wSLYsLBks3+y//ZIkR0awRl3VqrJcOPbR57Ng/CFpo0IEgz23mQj4SAAoJGBE3tggQEDQgMmlGAAKKKKFAzOKzTH3fNp3v1JWc2eeIYBqcPqCnKZ+e1BYY3/UNIzz29xgXQTvMGIKhqIY0YL9bBzpAWBtiEEP5TyLq7RktNfYGWGEQ19Sjmfn1pci8YaUk5KcIs7ReSiFATeIGQe/QxEA=\" style=\"height:26px;width:26px\"/></div></span><div class=\"CA5RN\"><div><span class=\"VuuXrf\">Randalls</span></div><div class=\"byrV5b\"><cite class=\"qLRx3b tjvcx GvPZzd cHaqb\" role=\"text\">https://www.randalls.com<span class=\"ylgVCe ob9lvb\" role=\"text\"> › ... › Frozen Vegetables</span></cite></div></div></div></div></a>, <a data-ved=\"2ahUKEwizwO7tyZ-HAxXYSDABHRiZAUQQqa4BegQIHBAA\" href=\"https://www.randalls.com/shop/product-details.970001559.html\" ping=\"/url?sa=t&amp;source=web&amp;rct=j&amp;opi=89978449&amp;url=https://www.randalls.com/shop/product-details.970001559.html&amp;ved=2ahUKEwizwO7tyZ-HAxXYSDABHRiZAUQQqa4BegQIHBAA\"><div class=\"Y9Xc3e rMkKgf\" style=\"background:#fff;width:204px;height:114px;margin-top:0px;max-height:114px\"><div class=\"fiar4\" style=\"padding-top:100.000%\"><div class=\"sX59Pb oLJ4Uc\" style=\"max-width:114px\"><img alt=\"TJ Farms Select Winter Blend - 12 Oz from www.randalls.com\" class=\"IOZdEc RrNlDb\" data-deferred=\"1\" id=\"rimg_1\" src=\"data:image/gif;base64,R0lGODlhAQABAIAAAP///////yH5BAEKAAEALAAAAAABAAEAAAICTAEAOw==\"/></div></div><div class=\"vAamwe\"></div></div></a>, <a data-ved=\"2ahUKEwizwO7tyZ-HAxXYSDABHRiZAUQQFnoECBsQAQ\" href=\"https://www.shaws.com/shop/product-details.970001559.html\" jsname=\"UWckNb\" ping=\"/url?sa=t&amp;source=web&amp;rct=j&amp;opi=89978449&amp;url=https://www.shaws.com/shop/product-details.970001559.html&amp;ved=2ahUKEwizwO7tyZ-HAxXYSDABHRiZAUQQFnoECBsQAQ\"><br/><h3 class=\"LC20lb MBeuO DKV0Md\">Tj Farms Select Winter Blend - 16 OZ</h3><div class=\"notranslate HGLrXd NJjxre iUh30 ojE3Fb\"><div class=\"q0vns\"><span class=\"DDKf1c\"><div aria-hidden=\"true\" class=\"eqA2re UnOTSe Vwoesf\"><img alt=\"\" class=\"XNo5Ab\" src=\"data:image/avif;base64,AAAAIGZ0eXBhdmlmAAAAAGF2aWZtaWYxbWlhZk1BMUIAAAGNbWV0YQAAAAAAAAAoaGRscgAAAAAAAAAAcGljdAAAAAAAAAAAAAAAAGxpYmF2aWYAAAAADnBpdG0AAAAAAAEAAAAsaWxvYwAAAABEAAACAAEAAAABAAACaAAAAK8AAgAAAAEAAAG1AAAAswAAAEJpaW5mAAAAAAACAAAAGmluZmUCAAAAAAEAAGF2MDFDb2xvcgAAAAAaaW5mZQIAAAAAAgAAYXYwMUFscGhhAAAAABppcmVmAAAAAAAAAA5hdXhsAAIAAQABAAAAw2lwcnAAAACdaXBjbwAAABRpc3BlAAAAAAAAABwAAAAcAAAAEHBpeGkAAAAAAwgICAAAAAxhdjFDgQAMAAAAABNjb2xybmNseAACAAIABoAAAAAOcGl4aQAAAAABCAAAAAxhdjFDgQAcAAAAADhhdXhDAAAAAHVybjptcGVnOm1wZWdCOmNpY3A6c3lzdGVtczphdXhpbGlhcnk6YWxwaGEAAAAAHmlwbWEAAAAAAAAAAgABBAECgwQAAgQBBYYHAAABam1kYXQSAAoFGBE3thUypwEYACihQM8gxQvAYNDFlNDB24FX5haKwOYMkPABKGPhYjV8WhaM4JA8forikrkpetGbRg5tQeYGLAB8fTqDTJmeb1ZRNVwj5ldT02LzTUveNASR62MJ210hwTpbBGq1jraCFVL+IuwdJwxI8gvwfJZ9g/IaQmrVTOpIqlpvr76THgb/DSnowQAX8r0eqco+Qr+fiVupX0kxfql3Bb6Awq28e8bxVQSSMBIACgkYETe2CBAQNCAynwEYAAooooUA0TIXebQp6Gn4E3cCrMkC9CTzz8oBqzTASELiqS20pXyK93ZSp0UbybvAyA3r/HvilSXYTHnPAFj9xY9QCrVgfz9VtAYHrCSi3bICnKWWhdxC1DuoEVBxnulHKGdhE5MuICPxx14onDtlFZPVm8OXfiuK694mXnJYD5QQjnKOcecmcM5Yc4/KbruQPNR4J+tqne7G7rG80hY=\" style=\"height:26px;width:26px\"/></div></span><div class=\"CA5RN\"><div><span class=\"VuuXrf\">Shaw's</span></div><div class=\"byrV5b\"><cite class=\"qLRx3b tjvcx GvPZzd cHaqb\" role=\"text\">https://www.shaws.com<span class=\"ylgVCe ob9lvb\" role=\"text\"> › ... › Frozen Vegetables</span></cite></div></div></div></div></a>, <a class=\"fl\" href=\"/search?sca_esv=d5f0ac5cf98c6d9c&amp;q=TJ+Farms+Select+Winter+Blend+-+%2212%22+Oz&amp;sa=X&amp;ved=2ahUKEwizwO7tyZ-HAxXYSDABHRiZAUQQ5t4CegQIKhAB\"><span>12</span></a>, <a data-ved=\"2ahUKEwizwO7tyZ-HAxXYSDABHRiZAUQQqa4BegQIHhAA\" href=\"https://www.shaws.com/shop/product-details.970001559.html\" ping=\"/url?sa=t&amp;source=web&amp;rct=j&amp;opi=89978449&amp;url=https://www.shaws.com/shop/product-details.970001559.html&amp;ved=2ahUKEwizwO7tyZ-HAxXYSDABHRiZAUQQqa4BegQIHhAA\"><div class=\"Y9Xc3e rMkKgf\" style=\"background:#fff;width:204px;height:114px;margin-top:0px;max-height:114px\"><div class=\"fiar4\" style=\"padding-top:55.882%\"><div class=\"sX59Pb oLJ4Uc\" style=\"max-width:204px\"><img alt=\"TJ Farms Select Winter Blend - 12 Oz from www.shaws.com\" class=\"IOZdEc RrNlDb\" data-deferred=\"1\" id=\"rimg_3\" src=\"data:image/gif;base64,R0lGODlhAQABAIAAAP///////yH5BAEKAAEALAAAAAABAAEAAAICTAEAOw==\"/></div></div><div class=\"vAamwe\"></div></div></a>, <a data-ved=\"2ahUKEwizwO7tyZ-HAxXYSDABHRiZAUQQFnoECDsQAQ\" href=\"https://www.mercato.com/item/tj-farms-winter-blend-12-ounces/1693515?featuredStoreId=2654\" jsname=\"UWckNb\" ping=\"/url?sa=t&amp;source=web&amp;rct=j&amp;opi=89978449&amp;url=https://www.mercato.com/item/tj-farms-winter-blend-12-ounces/1693515%3FfeaturedStoreId%3D2654&amp;ved=2ahUKEwizwO7tyZ-HAxXYSDABHRiZAUQQFnoECDsQAQ\"><br/><h3 class=\"LC20lb MBeuO DKV0Md\">Buy Tj Farms Winter Blend - 12 Ounces Online</h3><div class=\"notranslate HGLrXd NJjxre iUh30 ojE3Fb\"><div class=\"q0vns\"><span class=\"DDKf1c\"><div aria-hidden=\"true\" class=\"eqA2re UnOTSe Vwoesf\"><img alt=\"\" class=\"XNo5Ab\" src=\"data:image/avif;base64,AAAAIGZ0eXBhdmlmAAAAAGF2aWZtaWYxbWlhZk1BMUIAAAGNbWV0YQAAAAAAAAAoaGRscgAAAAAAAAAAcGljdAAAAAAAAAAAAAAAAGxpYmF2aWYAAAAADnBpdG0AAAAAAAEAAAAsaWxvYwAAAABEAAACAAEAAAABAAACiQAAAFMAAgAAAAEAAAG1AAAA1AAAAEJpaW5mAAAAAAACAAAAGmluZmUCAAAAAAEAAGF2MDFDb2xvcgAAAAAaaW5mZQIAAAAAAgAAYXYwMUFscGhhAAAAABppcmVmAAAAAAAAAA5hdXhsAAIAAQABAAAAw2lwcnAAAACdaXBjbwAAABRpc3BlAAAAAAAAABwAAAAcAAAAEHBpeGkAAAAAAwgICAAAAAxhdjFDgQAMAAAAABNjb2xybmNseAACAAIABoAAAAAOcGl4aQAAAAABCAAAAAxhdjFDgQAcAAAAADhhdXhDAAAAAHVybjptcGVnOm1wZWdCOmNpY3A6c3lzdGVtczphdXhpbGlhcnk6YWxwaGEAAAAAHmlwbWEAAAAAAAAAAgABBAECgwQAAgQBBYYHAAABL21kYXQSAAoFGBE3thUyyAEYACihQM8L9BzrbW+x5BRURmMDrOoXmcUHGBmdUr5oZRYqhH9zYKSbEHQgKgVU0QvP6gCFMqQhxIQi1QpQxYd6GrnM7qEZwDIxgYKhINN9LlCMBSMW9iyWjpEFU5C5cjgqbULh6LvQyxFkMV+d8rLWue2Ft9wdvhZsoGiw+3Qz9DXwiJnK3Abd+bST1xoXASOogE7jkfcg1Qhmd4FzU+//9PpinbjN898ATfieThWh3z1SkvsVcIVMzgezzaNG5S/vNiGZRglwkxIACgkYETe2CBAQNCAyREYAAooooUDIGKa0HN7FnpyeK/SOg6pgC1+BgSKv/tS91Z6cG1n5+xiajT0TGZ4FL3Gaj0i+Ra3UQI0z6drdEW1FKQyA\" style=\"height:26px;width:26px\"/></div></span><div class=\"CA5RN\"><div><span class=\"VuuXrf\">Shop Mercato</span></div><div class=\"byrV5b\"><cite class=\"qLRx3b tjvcx GvPZzd cHaqb\" role=\"text\">https://www.mercato.com<span class=\"ylgVCe ob9lvb\" role=\"text\"> › item › tj-farms-winter-blen...</span></cite></div></div></div></div></a>, <a class=\"fl\" href=\"/search?sca_esv=d5f0ac5cf98c6d9c&amp;q=TJ+Farms+%22Select%22+Winter+Blend+-+12+Oz&amp;sa=X&amp;ved=2ahUKEwizwO7tyZ-HAxXYSDABHRiZAUQQ5t4CegQIRBAB\"><span>Select</span></a>, <a data-ved=\"2ahUKEwizwO7tyZ-HAxXYSDABHRiZAUQQFnoECDYQAQ\" href=\"https://www.nutritionix.com/i/tj-farms-select/winter-blend/54fd1344a28818f4586f86cb\" jsname=\"UWckNb\" ping=\"/url?sa=t&amp;source=web&amp;rct=j&amp;opi=89978449&amp;url=https://www.nutritionix.com/i/tj-farms-select/winter-blend/54fd1344a28818f4586f86cb&amp;ved=2ahUKEwizwO7tyZ-HAxXYSDABHRiZAUQQFnoECDYQAQ\"><br/><h3 class=\"LC20lb MBeuO DKV0Md\">Calories in Winter Blend from TJ Farms Select</h3><div class=\"notranslate HGLrXd NJjxre iUh30 ojE3Fb\"><div class=\"q0vns\"><span class=\"H9lube\"><div aria-hidden=\"true\" class=\"eqA2re NjwKYd Vwoesf\"><img alt=\"\" class=\"XNo5Ab\" src=\"data:image/avif;base64,AAAAIGZ0eXBhdmlmAAAAAGF2aWZtaWYxbWlhZk1BMUIAAAGNbWV0YQAAAAAAAAAoaGRscgAAAAAAAAAAcGljdAAAAAAAAAAAAAAAAGxpYmF2aWYAAAAADnBpdG0AAAAAAAEAAAAsaWxvYwAAAABEAAACAAEAAAABAAADIQAAARYAAgAAAAEAAAG1AAABbAAAAEJpaW5mAAAAAAACAAAAGmluZmUCAAAAAAEAAGF2MDFDb2xvcgAAAAAaaW5mZQIAAAAAAgAAYXYwMUFscGhhAAAAABppcmVmAAAAAAAAAA5hdXhsAAIAAQABAAAAw2lwcnAAAACdaXBjbwAAABRpc3BlAAAAAAAAABoAAAAgAAAAEHBpeGkAAAAAAwgICAAAAAxhdjFDgQAMAAAAABNjb2xybmNseAACAAIABoAAAAAOcGl4aQAAAAABCAAAAAxhdjFDgQAcAAAAADhhdXhDAAAAAHVybjptcGVnOm1wZWdCOmNpY3A6c3lzdGVtczphdXhpbGlhcnk6YWxwaGEAAAAAHmlwbWEAAAAAAAAAAgABBAECgwQAAgQBBYYHAAACim1kYXQSAAoFGBEz9hUy4AIYACihQNEyF4fPeNPN7RPYqBzmCk0Z8ng8G630Kx7dxiFG2gl7u7t+X41fudYkOonD3haJc/NkesM9ylzTBY9/Vd644Uva1JkenPoLQ0uRrTrxImL83Uo9ZrvxOG3vJK8v9Rg7u2wprrBK96xK9NZ6ZoIvuXzfeBYuWUE5nuCmizc+KlVR+BFSVlOuSzLJCvKO171agzarIW80flBTM2YEPSxqc+24/AK65xaBFSziXNNQed4RBYVcieBcZtKgl4rVribzdUlcxlXm+ALJdXbwnqznhW/zUMiyTYzZ/RAxa3+YejqbSETO0OUuJXamHnCiqG8E2ndLuaxls4m/ImfQQva6frZLWhGaeHQ2ZuyY2fKNy7/ulTm4yIvUfgkDwTnW8RVyJBhzzfcJCo4co6ptePc9/+bNiriqkF38mejeuuUPYwKpzpQ/8i7JfS6I+ueNWyB9DM2xkYVS39J0BRPwEgAKCRgRM/YIEBA0IDKGAhgACiiihQDPs1FYdxvf8j7Jk/67FLYTfKTAYxjAdRvRMW07j6Z8q7dR2Hvx7TNeOVjg8B5eAwppOi4a+szKk0FNCk9BfhqZ/sDQvQ81Jsx1K+9duhfguQvDBvFWh1RahDGOXD8hbI+pNCYb0UQQRKiMpCDYuCHyx3W1fqxp+DFPtBb7vtPmyerh4r9M6VcilKdYoz5EJV2UVX4jXlSiVHmVn21FlToqmNGuG88aee+KhStyNbevjJfB/DKIIecI63SOaZzU5KkOeJlsmX5u1eh9qGXtwHyullJ4MydNrwkiPuTbbkmUtkQtXakAhW5FmkDd6s3rMUr1m0zTD4J4rgxWqRK0IJw=\" style=\"height:18px;width:18px\"/></div></span><div class=\"CA5RN\"><div><span class=\"VuuXrf\">Nutritionix</span></div><div class=\"byrV5b\"><cite class=\"qLRx3b tjvcx GvPZzd cHaqb\" role=\"text\">https://www.nutritionix.com<span class=\"ylgVCe ob9lvb\" role=\"text\"> › tj-farms-select › winter-ble...</span></cite></div></div></div></div></a>, <a class=\"fl\" href=\"/search?sca_esv=d5f0ac5cf98c6d9c&amp;q=TJ+Farms+Select+Winter+Blend+-+12+%22Oz%22&amp;sa=X&amp;ved=2ahUKEwizwO7tyZ-HAxXYSDABHRiZAUQQ5t4CegQIPxAB\"><span>Oz</span></a>, <a class=\"a-no-hover-decoration O7G3Gd\" href=\"/search?sca_esv=d5f0ac5cf98c6d9c&amp;q=TJ+Farms+Select+Winter+Blend+-+12+Oz&amp;udm=2&amp;source=univ&amp;fir=xuVLXnvEbYOa_M%252CIScyh80W3VMC5M%252C_%253BFOM4UFK1R0o4TM%252CN-ItxqH0Xb7nbM%252C_%253BCoVr01XreaZMGM%252CKd7FeuHb-D_0QM%252C_%253BsRwZjOBxNZ98fM%252C0CMPu-hbW_BtMM%252C_%253BRVgARYXYL3_uuM%252CzLstiXxkVpPKxM%252C_%253Bz_6PZmTR2Kf97M%252CyKLBwxZu9O3q4M%252C_%253Bv-bktKP5-qMDCM%252CKXKgH0VuVSeYJM%252C_%253BN3-lKngX1nk9OM%252Cf-0bh9OL4_9VHM%252C_%253BeCEBLjwoaKMshM%252CIScyh80W3VMC5M%252C_%253BzfQJVmczqRkLiM%252CJ8B_kzfjS-UlVM%252C_&amp;usg=AI4_-kRNgqooqprJRWtpvQfoQ7pr6c1h5A\"><span class=\"GCkZZe\">Images</span></a>, <a class=\"EZAeBe\" href=\"https://www.joevsmartshop.com/product/tj-farms-select-frozen-winter-blend-12-oz/10704543\" ping=\"/url?sa=t&amp;source=web&amp;rct=j&amp;opi=89978449&amp;url=https://www.joevsmartshop.com/product/tj-farms-select-frozen-winter-blend-12-oz/10704543&amp;ved=2ahUKEwizwO7tyZ-HAxXYSDABHRiZAUQQh-wKegQINxAD\"><div class=\"JMWMJ\"><div class=\"toI8Rb OSrXXb usbThf\">TJ Farms Select Frozen Winter Blend, 12 oz | Joe V's Smart ...</div></div><div class=\"Xxy7Vb\"><div class=\"BtwlAd\"><g-img style=\"width:16px;height:16px\"><img alt=\"\" class=\"YQ4gaf zr758c\" data-deferred=\"1\" height=\"16\" id=\"dimg_13\" src=\"data:image/gif;base64,R0lGODlhAQABAIAAAP///////yH5BAEKAAEALAAAAAABAAEAAAICTAEAOw==\" width=\"16\"/></g-img></div><div class=\"ptes9b\"><div class=\"guK3rf cHaqb\"><span>Joe V's Smart Shop</span></div></div></div></a>, <a class=\"EZAeBe\" href=\"https://www.fooducate.com/product/TJ-Farms-Winter-Blend/D1200EEC-5F25-11E2-AD7C-1231381A4CEA\" ping=\"/url?sa=t&amp;source=web&amp;rct=j&amp;opi=89978449&amp;url=https://www.fooducate.com/product/TJ-Farms-Winter-Blend/D1200EEC-5F25-11E2-AD7C-1231381A4CEA&amp;ved=2ahUKEwizwO7tyZ-HAxXYSDABHRiZAUQQh-wKegQIOhAD\"><div class=\"JMWMJ\"><div class=\"toI8Rb OSrXXb usbThf\">TJ Farms Winter Blend: Calories, Nutrition Analysis &amp; More ...</div></div><div class=\"Xxy7Vb\"><div class=\"BtwlAd\"><g-img style=\"width:16px;height:16px\"><img alt=\"\" class=\"YQ4gaf zr758c\" data-deferred=\"1\" height=\"16\" id=\"dimg_10\" src=\"data:image/gif;base64,R0lGODlhAQABAIAAAP///////yH5BAEKAAEALAAAAAABAAEAAAICTAEAOw==\" width=\"16\"/></g-img></div><div class=\"ptes9b\"><div class=\"guK3rf cHaqb\"><span>Fooducate</span></div></div></div></a>, <a class=\"EZAeBe\" href=\"https://www.carbmanager.com/food-detail/nb:54fd1344a28818f4586f86cb/winter-blend\" ping=\"/url?sa=t&amp;source=web&amp;rct=j&amp;opi=89978449&amp;url=https://www.carbmanager.com/food-detail/nb:54fd1344a28818f4586f86cb/winter-blend&amp;ved=2ahUKEwizwO7tyZ-HAxXYSDABHRiZAUQQh-wKegQIORAD\"><div class=\"JMWMJ\"><div class=\"toI8Rb OSrXXb usbThf\">Carbs in TJ Farms Select Winter Blend</div></div><div class=\"Xxy7Vb\"><div class=\"BtwlAd\"><g-img style=\"width:16px;height:16px\"><img alt=\"\" class=\"YQ4gaf zr758c\" data-deferred=\"1\" height=\"16\" id=\"dimg_9\" src=\"data:image/gif;base64,R0lGODlhAQABAIAAAP///////yH5BAEKAAEALAAAAAABAAEAAAICTAEAOw==\" width=\"16\"/></g-img></div><div class=\"ptes9b\"><div class=\"guK3rf cHaqb\"><span>Carb Manager</span></div></div></div></a>, <a class=\"EZAeBe\" href=\"https://www.festfoods.com/shop/frozen/vegetables/mixed_vegetables/tj_farms_vegetables_winter_blend/p/7448843\" ping=\"/url?sa=t&amp;source=web&amp;rct=j&amp;opi=89978449&amp;url=https://www.festfoods.com/shop/frozen/vegetables/mixed_vegetables/tj_farms_vegetables_winter_blend/p/7448843&amp;ved=2ahUKEwizwO7tyZ-HAxXYSDABHRiZAUQQh-wKegQIOBAD\"><div class=\"JMWMJ\"><div class=\"toI8Rb OSrXXb usbThf\">Tj Farms Vegetables Winter Blend | Mixed Vegetables ...</div></div><div class=\"Xxy7Vb\"><div class=\"BtwlAd\"><g-img style=\"width:16px;height:16px\"><img alt=\"\" class=\"YQ4gaf zr758c\" data-deferred=\"1\" height=\"16\" id=\"dimg_15\" src=\"data:image/gif;base64,R0lGODlhAQABAIAAAP///////yH5BAEKAAEALAAAAAABAAEAAAICTAEAOw==\" width=\"16\"/></g-img></div><div class=\"ptes9b\"><div class=\"guK3rf cHaqb\"><span>Festival Foods</span></div></div></div></a>, <a class=\"CHn7Qb pYouzb\" href=\"/search?sca_esv=d5f0ac5cf98c6d9c&amp;q=TJ+Farms+Select+Winter+Blend+-+12+Oz&amp;udm=2&amp;source=univ&amp;fir=xuVLXnvEbYOa_M%252CIScyh80W3VMC5M%252C_%253BFOM4UFK1R0o4TM%252CN-ItxqH0Xb7nbM%252C_%253BCoVr01XreaZMGM%252CKd7FeuHb-D_0QM%252C_%253BsRwZjOBxNZ98fM%252C0CMPu-hbW_BtMM%252C_%253BRVgARYXYL3_uuM%252CzLstiXxkVpPKxM%252C_%253Bz_6PZmTR2Kf97M%252CyKLBwxZu9O3q4M%252C_%253Bv-bktKP5-qMDCM%252CKXKgH0VuVSeYJM%252C_%253BN3-lKngX1nk9OM%252Cf-0bh9OL4_9VHM%252C_%253BeCEBLjwoaKMshM%252CIScyh80W3VMC5M%252C_%253BzfQJVmczqRkLiM%252CJ8B_kzfjS-UlVM%252C_&amp;usg=AI4_-kRNgqooqprJRWtpvQfoQ7pr6c1h5A&amp;sa=X&amp;ved=2ahUKEwizwO7tyZ-HAxXYSDABHRiZAUQQ7Al6BAg0EAo\"><hr aria-hidden=\"true\" class=\"rhHIGd\"/><div aria-label=\"All images\" class=\"S8ee5 CwbYXd wHYlTd\"><span aria-hidden=\"true\" class=\"p8VO6e HbX59e\"><span class=\"z1asCe\"><svg focusable=\"false\" viewbox=\"0 0 24 24\" xmlns=\"http://www.w3.org/2000/svg\"><path d=\"M12 4l-1.41 1.41L16.17 11H4v2h12.17l-5.58 5.59L12 20l8-8z\"></path></svg></span></span><span class=\"Z4Cazf OSrXXb\">All images</span></div></a>, <a data-ved=\"2ahUKEwizwO7tyZ-HAxXYSDABHRiZAUQQFnoECDwQAQ\" href=\"https://www.joevsmartshop.com/product/tj-farms-select-stir-fry-blend-12-oz/10704552\" jsname=\"UWckNb\" ping=\"/url?sa=t&amp;source=web&amp;rct=j&amp;opi=89978449&amp;url=https://www.joevsmartshop.com/product/tj-farms-select-stir-fry-blend-12-oz/10704552&amp;ved=2ahUKEwizwO7tyZ-HAxXYSDABHRiZAUQQFnoECDwQAQ\"><br/><h3 class=\"LC20lb MBeuO DKV0Md\">TJ Farms Select Stir Fry Blend, 12 oz</h3><div class=\"notranslate HGLrXd NJjxre iUh30 ojE3Fb\"><div class=\"q0vns\"><span class=\"H9lube\"><div aria-hidden=\"true\" class=\"eqA2re NjwKYd Vwoesf\"><img alt=\"\" class=\"XNo5Ab\" src=\"data:image/avif;base64,AAAAIGZ0eXBhdmlmAAAAAGF2aWZtaWYxbWlhZk1BMUIAAAGNbWV0YQAAAAAAAAAoaGRscgAAAAAAAAAAcGljdAAAAAAAAAAAAAAAAGxpYmF2aWYAAAAADnBpdG0AAAAAAAEAAAAsaWxvYwAAAABEAAACAAEAAAABAAAB7QAAAa4AAgAAAAEAAAG1AAAAOAAAAEJpaW5mAAAAAAACAAAAGmluZmUCAAAAAAEAAGF2MDFDb2xvcgAAAAAaaW5mZQIAAAAAAgAAYXYwMUFscGhhAAAAABppcmVmAAAAAAAAAA5hdXhsAAIAAQABAAAAw2lwcnAAAACdaXBjbwAAABRpc3BlAAAAAAAAACAAAAAgAAAAEHBpeGkAAAAAAwgICAAAAAxhdjFDgQAMAAAAABNjb2xybmNseAACAAIABoAAAAAOcGl4aQAAAAABCAAAAAxhdjFDgQAcAAAAADhhdXhDAAAAAHVybjptcGVnOm1wZWdCOmNpY3A6c3lzdGVtczphdXhpbGlhcnk6YWxwaGEAAAAAHmlwbWEAAAAAAAAAAgABBAECgwQAAgQBBYYHAAAB7m1kYXQSAAoFGBE/9hUyLUYACihQyBF26CYs6LDB641rfVEKIXVli4wcAd3p0G9ky7s5NvCFRp5qUDJxoBIACgkYET/2CBAQNCAyngMYAAooooUA0UhucJgifvPJhkzZi6QnzVir7pcfqoY5DdaLTOLhDYQohv/rOxN5otrsxsrrU7enLYcm8tlGRkKmuIRVv6e2lvOeJidiVMw45Ussu0C8THCvu5E/W0NxruDO+RMZFIpHUMXU/5F0/cWNIcL5+YTZpr8mjKU5McxPjGZUICRK5JiF8jcwUxnboRUIz0E4jP8DOWC00vL51BQag6Q+Hq4CV4e5oMPJH5n11RXeVe7xZntV5kLyMPPLKebLxCOXtaUeU9F+rwDkDxGtz0hemo95t0eBixBdF0+uIQG3r2bmIFuyyxcgOtCT8gaVDiBcl51pGiUyhPcr/0uqIoqjb/MVvgFiIxt3vTMUQLcnh0UGKipFdhuRmvfXlQ/B81iLpl1Ua5Wb4sxOJpjMY50hqmDSc5fmzCdModiXxU0S8tIlk3RBBgApRo8zuNGQnKo9R85ez0zm0w7JVSigNyTGHLFSA3e2qxxbhhbu608W8jGVbqSxy+txy+c1XfjqKfuYy8IpCb51zfCpI5EgGijmu2BRRrzKZsss84A=\" style=\"height:18px;width:18px\"/></div></span><div class=\"CA5RN\"><div><span class=\"VuuXrf\">Joe V's Smart Shop</span></div><div class=\"byrV5b\"><cite class=\"qLRx3b tjvcx GvPZzd cHaqb\" role=\"text\">https://www.joevsmartshop.com<span class=\"ylgVCe ob9lvb\" role=\"text\"> › product › tj-farms-sele...</span></cite></div></div></div></div></a>, <a class=\"fl\" href=\"/search?sca_esv=d5f0ac5cf98c6d9c&amp;q=TJ+Farms+Select+%22Winter%22+Blend+-+12+Oz&amp;sa=X&amp;ved=2ahUKEwizwO7tyZ-HAxXYSDABHRiZAUQQ5t4CegQIShAB\"><span>Winter</span></a>, <a data-ved=\"2ahUKEwizwO7tyZ-HAxXYSDABHRiZAUQQqa4BegQIRRAA\" href=\"https://www.joevsmartshop.com/product/tj-farms-select-stir-fry-blend-12-oz/10704552\" ping=\"/url?sa=t&amp;source=web&amp;rct=j&amp;opi=89978449&amp;url=https://www.joevsmartshop.com/product/tj-farms-select-stir-fry-blend-12-oz/10704552&amp;ved=2ahUKEwizwO7tyZ-HAxXYSDABHRiZAUQQqa4BegQIRRAA\"><div class=\"Y9Xc3e rMkKgf\" style=\"background:#fff;width:204px;height:114px;margin-top:0px;max-height:114px\"><div class=\"fiar4\" style=\"padding-top:100.000%\"><div class=\"sX59Pb oLJ4Uc\" style=\"max-width:114px\"><img alt=\"TJ Farms Select Winter Blend - 12 Oz from www.joevsmartshop.com\" class=\"IOZdEc RrNlDb\" data-deferred=\"1\" id=\"rimg_9\" src=\"data:image/gif;base64,R0lGODlhAQABAIAAAP///////yH5BAEKAAEALAAAAAABAAEAAAICTAEAOw==\"/></div></div><div class=\"vAamwe\"></div></div></a>, <a data-ved=\"2ahUKEwizwO7tyZ-HAxXYSDABHRiZAUQQFnoECDUQAQ\" href=\"https://www.myfitnesspal.com/nutrition-facts-calories/tj-farms-select\" jsname=\"UWckNb\" ping=\"/url?sa=t&amp;source=web&amp;rct=j&amp;opi=89978449&amp;url=https://www.myfitnesspal.com/nutrition-facts-calories/tj-farms-select&amp;ved=2ahUKEwizwO7tyZ-HAxXYSDABHRiZAUQQFnoECDUQAQ\"><br/><h3 class=\"LC20lb MBeuO DKV0Md\">Find Tj Farms Select Calories &amp; Nutrition Facts</h3><div class=\"notranslate HGLrXd NJjxre iUh30 ojE3Fb\"><div class=\"q0vns\"><span class=\"DDKf1c\"><div aria-hidden=\"true\" class=\"eqA2re UnOTSe Vwoesf\"><img alt=\"\" class=\"XNo5Ab\" src=\"data:image/avif;base64,AAAAIGZ0eXBhdmlmAAAAAGF2aWZtaWYxbWlhZk1BMUIAAADybWV0YQAAAAAAAAAoaGRscgAAAAAAAAAAcGljdAAAAAAAAAAAAAAAAGxpYmF2aWYAAAAADnBpdG0AAAAAAAEAAAAeaWxvYwAAAABEAAABAAEAAAABAAABGgAAAI0AAAAoaWluZgAAAAAAAQAAABppbmZlAgAAAAABAABhdjAxQ29sb3IAAAAAamlwcnAAAABLaXBjbwAAABRpc3BlAAAAAAAAABwAAAAcAAAAEHBpeGkAAAAAAwgICAAAAAxhdjFDgQAMAAAAABNjb2xybmNseAACAAIABoAAAAAXaXBtYQAAAAAAAAABAAEEAQKDBAAAAJVtZGF0EgAKCRgRN7YIEBA0IDJ+GAAKKKKFAM8J9gcoKnTfmFl7JHikqyC2Fi+K9qcJ4JsDJWJnvW24JyC9KF4J9Fz3HgzuuUpJXY4X55l+Rf3CFs5iAaRvXLD8FaIYMUuV/PEfBBk5nt+spLxU4RwHUVEEG3FODzKtQJ8k7I1OI3/SP01lRw+R3pwAcbI5X7cg\" style=\"height:26px;width:26px\"/></div></span><div class=\"CA5RN\"><div><span class=\"VuuXrf\">MyFitnessPal</span></div><div class=\"byrV5b\"><cite class=\"qLRx3b tjvcx GvPZzd cHaqb\" role=\"text\">https://www.myfitnesspal.com<span class=\"ylgVCe ob9lvb\" role=\"text\"> › nutrition-facts-calories</span></cite></div></div></div></div></a>, <a class=\"ngTNl\" href=\"/search?sca_esv=d5f0ac5cf98c6d9c&amp;q=Tj+farms+select+winter+blend+12+oz+nutrition+facts&amp;sa=X&amp;ved=2ahUKEwizwO7tyZ-HAxXYSDABHRiZAUQQ1QJ6BAgzEAE\"><div class=\"B2VR9 CJHX3e\"><div class=\"wyccme\"><div><span class=\"dg6jd\">Tj farms select winter blend 12 oz nutrition facts</span></div></div><div class=\"XbQ34c\"><div class=\"DxHbyd OvQkSb eJtrMc\"><span class=\"yiwlZe z1asCe MZy1Rb\" style=\"height:20px;line-height:20px;width:20px\"><svg focusable=\"false\" viewbox=\"0 0 24 24\" xmlns=\"http://www.w3.org/2000/svg\"><path d=\"M15.5 14h-.79l-.28-.27A6.471 6.471 0 0 0 16 9.5 6.5 6.5 0 1 0 9.5 16c1.61 0 3.09-.59 4.23-1.57l.27.28v.79l5 4.99L20.49 19l-4.99-5zm-6 0C7.01 14 5 11.99 5 9.5S7.01 5 9.5 5 14 7.01 14 9.5 11.99 14 9.5 14z\"></path></svg></span></div></div></div></a>, <a class=\"ngTNl\" href=\"/search?sca_esv=d5f0ac5cf98c6d9c&amp;q=Tj+farms+select+winter+blend+12+oz+price&amp;sa=X&amp;ved=2ahUKEwizwO7tyZ-HAxXYSDABHRiZAUQQ1QJ6BAgyEAE\"><div class=\"B2VR9 CJHX3e\"><div class=\"wyccme\"><div><span class=\"dg6jd\">Tj farms select winter blend 12 oz price</span></div></div><div class=\"XbQ34c\"><div class=\"DxHbyd OvQkSb eJtrMc\"><span class=\"yiwlZe z1asCe MZy1Rb\" style=\"height:20px;line-height:20px;width:20px\"><svg focusable=\"false\" viewbox=\"0 0 24 24\" xmlns=\"http://www.w3.org/2000/svg\"><path d=\"M15.5 14h-.79l-.28-.27A6.471 6.471 0 0 0 16 9.5 6.5 6.5 0 1 0 9.5 16c1.61 0 3.09-.59 4.23-1.57l.27.28v.79l5 4.99L20.49 19l-4.99-5zm-6 0C7.01 14 5 11.99 5 9.5S7.01 5 9.5 5 14 7.01 14 9.5 11.99 14 9.5 14z\"></path></svg></span></div></div></div></a>, <a aria-label=\"Page 2\" class=\"fl\" href=\"/search?q=TJ+Farms+Select+Winter+Blend+-+12+Oz&amp;sca_esv=d5f0ac5cf98c6d9c&amp;ei=Cx-QZvOOONiRwbkPmLKGoAQ&amp;start=10&amp;sa=N&amp;sstk=AagrsuiB8jvnJ6Rr4lTIlja7PE1JyJGLaQs4T1KJln_R3ASG2ooWx6EdHMWoRyRpNiwVpyMtDFLO7ycXJVFPKz0qohtIZdaSCEbRhA&amp;ved=2ahUKEwizwO7tyZ-HAxXYSDABHRiZAUQQ8tMDegQIBhAE\"><span class=\"SJajHc NVbCr\" style=\"background:url(/images/nav_logo321.webp) no-repeat;background-position:-74px 0;background-size:167px;width:20px\"></span>2</a>, <a aria-label=\"Page 3\" class=\"fl\" href=\"/search?q=TJ+Farms+Select+Winter+Blend+-+12+Oz&amp;sca_esv=d5f0ac5cf98c6d9c&amp;ei=Cx-QZvOOONiRwbkPmLKGoAQ&amp;start=20&amp;sa=N&amp;sstk=AagrsuiB8jvnJ6Rr4lTIlja7PE1JyJGLaQs4T1KJln_R3ASG2ooWx6EdHMWoRyRpNiwVpyMtDFLO7ycXJVFPKz0qohtIZdaSCEbRhA&amp;ved=2ahUKEwizwO7tyZ-HAxXYSDABHRiZAUQQ8tMDegQIBhAG\"><span class=\"SJajHc NVbCr\" style=\"background:url(/images/nav_logo321.webp) no-repeat;background-position:-74px 0;background-size:167px;width:20px\"></span>3</a>, <a aria-label=\"Page 4\" class=\"fl\" href=\"/search?q=TJ+Farms+Select+Winter+Blend+-+12+Oz&amp;sca_esv=d5f0ac5cf98c6d9c&amp;ei=Cx-QZvOOONiRwbkPmLKGoAQ&amp;start=30&amp;sa=N&amp;sstk=AagrsuiB8jvnJ6Rr4lTIlja7PE1JyJGLaQs4T1KJln_R3ASG2ooWx6EdHMWoRyRpNiwVpyMtDFLO7ycXJVFPKz0qohtIZdaSCEbRhA&amp;ved=2ahUKEwizwO7tyZ-HAxXYSDABHRiZAUQQ8tMDegQIBhAI\"><span class=\"SJajHc NVbCr\" style=\"background:url(/images/nav_logo321.webp) no-repeat;background-position:-74px 0;background-size:167px;width:20px\"></span>4</a>, <a aria-label=\"Page 5\" class=\"fl\" href=\"/search?q=TJ+Farms+Select+Winter+Blend+-+12+Oz&amp;sca_esv=d5f0ac5cf98c6d9c&amp;ei=Cx-QZvOOONiRwbkPmLKGoAQ&amp;start=40&amp;sa=N&amp;sstk=AagrsuiB8jvnJ6Rr4lTIlja7PE1JyJGLaQs4T1KJln_R3ASG2ooWx6EdHMWoRyRpNiwVpyMtDFLO7ycXJVFPKz0qohtIZdaSCEbRhA&amp;ved=2ahUKEwizwO7tyZ-HAxXYSDABHRiZAUQQ8tMDegQIBhAK\"><span class=\"SJajHc NVbCr\" style=\"background:url(/images/nav_logo321.webp) no-repeat;background-position:-74px 0;background-size:167px;width:20px\"></span>5</a>, <a aria-label=\"Page 6\" class=\"fl\" href=\"/search?q=TJ+Farms+Select+Winter+Blend+-+12+Oz&amp;sca_esv=d5f0ac5cf98c6d9c&amp;ei=Cx-QZvOOONiRwbkPmLKGoAQ&amp;start=50&amp;sa=N&amp;sstk=AagrsuiB8jvnJ6Rr4lTIlja7PE1JyJGLaQs4T1KJln_R3ASG2ooWx6EdHMWoRyRpNiwVpyMtDFLO7ycXJVFPKz0qohtIZdaSCEbRhA&amp;ved=2ahUKEwizwO7tyZ-HAxXYSDABHRiZAUQQ8tMDegQIBhAM\"><span class=\"SJajHc NVbCr\" style=\"background:url(/images/nav_logo321.webp) no-repeat;background-position:-74px 0;background-size:167px;width:20px\"></span>6</a>, <a aria-label=\"Page 7\" class=\"fl\" href=\"/search?q=TJ+Farms+Select+Winter+Blend+-+12+Oz&amp;sca_esv=d5f0ac5cf98c6d9c&amp;ei=Cx-QZvOOONiRwbkPmLKGoAQ&amp;start=60&amp;sa=N&amp;sstk=AagrsuiB8jvnJ6Rr4lTIlja7PE1JyJGLaQs4T1KJln_R3ASG2ooWx6EdHMWoRyRpNiwVpyMtDFLO7ycXJVFPKz0qohtIZdaSCEbRhA&amp;ved=2ahUKEwizwO7tyZ-HAxXYSDABHRiZAUQQ8tMDegQIBhAO\"><span class=\"SJajHc NVbCr\" style=\"background:url(/images/nav_logo321.webp) no-repeat;background-position:-74px 0;background-size:167px;width:20px\"></span>7</a>, <a aria-label=\"Page 8\" class=\"fl\" href=\"/search?q=TJ+Farms+Select+Winter+Blend+-+12+Oz&amp;sca_esv=d5f0ac5cf98c6d9c&amp;ei=Cx-QZvOOONiRwbkPmLKGoAQ&amp;start=70&amp;sa=N&amp;sstk=AagrsuiB8jvnJ6Rr4lTIlja7PE1JyJGLaQs4T1KJln_R3ASG2ooWx6EdHMWoRyRpNiwVpyMtDFLO7ycXJVFPKz0qohtIZdaSCEbRhA&amp;ved=2ahUKEwizwO7tyZ-HAxXYSDABHRiZAUQQ8tMDegQIBhAQ\"><span class=\"SJajHc NVbCr\" style=\"background:url(/images/nav_logo321.webp) no-repeat;background-position:-74px 0;background-size:167px;width:20px\"></span>8</a>, <a aria-label=\"Page 9\" class=\"fl\" href=\"/search?q=TJ+Farms+Select+Winter+Blend+-+12+Oz&amp;sca_esv=d5f0ac5cf98c6d9c&amp;ei=Cx-QZvOOONiRwbkPmLKGoAQ&amp;start=80&amp;sa=N&amp;sstk=AagrsuiB8jvnJ6Rr4lTIlja7PE1JyJGLaQs4T1KJln_R3ASG2ooWx6EdHMWoRyRpNiwVpyMtDFLO7ycXJVFPKz0qohtIZdaSCEbRhA&amp;ved=2ahUKEwizwO7tyZ-HAxXYSDABHRiZAUQQ8tMDegQIBhAS\"><span class=\"SJajHc NVbCr\" style=\"background:url(/images/nav_logo321.webp) no-repeat;background-position:-74px 0;background-size:167px;width:20px\"></span>9</a>, <a aria-label=\"Page 10\" class=\"fl\" href=\"/search?q=TJ+Farms+Select+Winter+Blend+-+12+Oz&amp;sca_esv=d5f0ac5cf98c6d9c&amp;ei=Cx-QZvOOONiRwbkPmLKGoAQ&amp;start=90&amp;sa=N&amp;sstk=AagrsuiB8jvnJ6Rr4lTIlja7PE1JyJGLaQs4T1KJln_R3ASG2ooWx6EdHMWoRyRpNiwVpyMtDFLO7ycXJVFPKz0qohtIZdaSCEbRhA&amp;ved=2ahUKEwizwO7tyZ-HAxXYSDABHRiZAUQQ8tMDegQIBhAU\"><span class=\"SJajHc NVbCr\" style=\"background:url(/images/nav_logo321.webp) no-repeat;background-position:-74px 0;background-size:167px;width:20px\"></span>10</a>, <a href=\"/search?q=TJ+Farms+Select+Winter+Blend+-+12+Oz&amp;sca_esv=d5f0ac5cf98c6d9c&amp;ei=Cx-QZvOOONiRwbkPmLKGoAQ&amp;start=10&amp;sa=N&amp;sstk=AagrsuiB8jvnJ6Rr4lTIlja7PE1JyJGLaQs4T1KJln_R3ASG2ooWx6EdHMWoRyRpNiwVpyMtDFLO7ycXJVFPKz0qohtIZdaSCEbRhA&amp;ved=2ahUKEwizwO7tyZ-HAxXYSDABHRiZAUQQ8NMDegQIBhAW\" id=\"pnnext\" style=\"text-align:left\"><span class=\"SJajHc NVbCr\" style=\"background:url(/images/nav_logo321.webp) no-repeat;background-position:-96px 0;background-size:167px;width:71px;float:left\"></span><span style=\"display:block;margin-left:53px\">Next</span></a>]\n"
          ]
        }
      ]
    },
    {
      "cell_type": "code",
      "source": [],
      "metadata": {
        "id": "q5os64tx-LTV"
      },
      "execution_count": null,
      "outputs": []
    }
  ]
}